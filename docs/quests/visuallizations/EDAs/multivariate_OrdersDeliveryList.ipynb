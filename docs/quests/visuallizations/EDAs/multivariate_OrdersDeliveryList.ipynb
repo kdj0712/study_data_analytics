{
  "nbformat": 4,
  "nbformat_minor": 0,
  "metadata": {
    "colab": {
      "provenance": [],
      "authorship_tag": "ABX9TyPUftzsiD25S3lDJZM1uhf+",
      "include_colab_link": true
    },
    "kernelspec": {
      "name": "python3",
      "display_name": "Python 3"
    },
    "language_info": {
      "name": "python"
    }
  },
  "cells": [
    {
      "cell_type": "markdown",
      "metadata": {
        "id": "view-in-github",
        "colab_type": "text"
      },
      "source": [
        "<a href=\"https://colab.research.google.com/github/kdj0712/study_data_analytics/blob/main/docs/quests/visuallizations/EDAs/multivariate_OrdersDeliveryList.ipynb\" target=\"_parent\"><img src=\"https://colab.research.google.com/assets/colab-badge.svg\" alt=\"Open In Colab\"/></a>"
      ]
    },
    {
      "cell_type": "markdown",
      "source": [
        "## 한글폰트 설치 및 데이터 로드"
      ],
      "metadata": {
        "id": "bEKC-1uQGnIQ"
      }
    },
    {
      "cell_type": "code",
      "source": [
        "# 한글 폰트 설치\n",
        "!apt-get install -y fonts-nanum\n",
        "!fc-cache -fv\n",
        "!rm ~/.cache/matplotlib -rf\n",
        "# 설치 후 colab 경우 Reuntime > Restart session 필요"
      ],
      "metadata": {
        "id": "BRUefsoFpGEd"
      },
      "execution_count": null,
      "outputs": []
    },
    {
      "cell_type": "code",
      "execution_count": 8,
      "metadata": {
        "id": "MN6WUYGtisg8"
      },
      "outputs": [],
      "source": [
        "import pandas as pd\n",
        "import datetime\n",
        "import matplotlib.pyplot as plt\n",
        "import matplotlib as mpl\n",
        "mpl.rc('font', family='NanumBarunGothic') # 혹은 다른 설치한 Nanum 폰트 사용"
      ]
    },
    {
      "cell_type": "code",
      "source": [
        "df_smdwd = pd.read_csv(\"/content/ShoppingMallDeliveryWithDate(2).csv\")\n",
        "df_smdwd.info()"
      ],
      "metadata": {
        "colab": {
          "base_uri": "https://localhost:8080/"
        },
        "id": "W2Xk1qPfjRhs",
        "outputId": "e6fc4674-bdf4-4141-e474-19c02720dc93"
      },
      "execution_count": 9,
      "outputs": [
        {
          "output_type": "stream",
          "name": "stdout",
          "text": [
            "<class 'pandas.core.frame.DataFrame'>\n",
            "RangeIndex: 46749 entries, 0 to 46748\n",
            "Data columns (total 9 columns):\n",
            " #   Column  Non-Null Count  Dtype  \n",
            "---  ------  --------------  -----  \n",
            " 0   결제수단    46749 non-null  object \n",
            " 1   배송번호    46749 non-null  object \n",
            " 2   배송시작일   46749 non-null  object \n",
            " 3   배송완료일   46749 non-null  object \n",
            " 4   상품구매금액  46749 non-null  int64  \n",
            " 5   상품번호    46661 non-null  float64\n",
            " 6   수량      46749 non-null  int64  \n",
            " 7   주문경로    46749 non-null  object \n",
            " 8   주문일     46749 non-null  int64  \n",
            "dtypes: float64(1), int64(3), object(5)\n",
            "memory usage: 3.2+ MB\n"
          ]
        }
      ]
    },
    {
      "cell_type": "markdown",
      "source": [
        "## 문제 풀이"
      ],
      "metadata": {
        "id": "wz_xaNksGwIi"
      }
    },
    {
      "cell_type": "markdown",
      "source": [
        "###  1. 상품구매금액이 80,000원 이상인 주문들을 찾으세요."
      ],
      "metadata": {
        "id": "P8ITSEqRG0od"
      }
    },
    {
      "cell_type": "code",
      "source": [
        "df_smdwd_1 = df_smdwd.query('상품구매금액 >= 80000')\n",
        "df_smdwd_1.info(), df_smdwd_1['상품구매금액'].min()"
      ],
      "metadata": {
        "colab": {
          "base_uri": "https://localhost:8080/"
        },
        "id": "BRDZW_ZpjVrL",
        "outputId": "7676f64f-ba29-4276-96c9-fa7986fd7dcf"
      },
      "execution_count": 10,
      "outputs": [
        {
          "output_type": "stream",
          "name": "stdout",
          "text": [
            "<class 'pandas.core.frame.DataFrame'>\n",
            "Int64Index: 15595 entries, 1 to 46748\n",
            "Data columns (total 9 columns):\n",
            " #   Column  Non-Null Count  Dtype  \n",
            "---  ------  --------------  -----  \n",
            " 0   결제수단    15595 non-null  object \n",
            " 1   배송번호    15595 non-null  object \n",
            " 2   배송시작일   15595 non-null  object \n",
            " 3   배송완료일   15595 non-null  object \n",
            " 4   상품구매금액  15595 non-null  int64  \n",
            " 5   상품번호    15579 non-null  float64\n",
            " 6   수량      15595 non-null  int64  \n",
            " 7   주문경로    15595 non-null  object \n",
            " 8   주문일     15595 non-null  int64  \n",
            "dtypes: float64(1), int64(3), object(5)\n",
            "memory usage: 1.2+ MB\n"
          ]
        },
        {
          "output_type": "execute_result",
          "data": {
            "text/plain": [
              "(None, 80000)"
            ]
          },
          "metadata": {},
          "execution_count": 10
        }
      ]
    },
    {
      "cell_type": "markdown",
      "source": [
        "### 2. 모바일웹을 통해 주문된 상품 중, 상품구매금액이 평균 이상인 주문들을 찾으세요."
      ],
      "metadata": {
        "id": "O7EB4_LTG6Tq"
      }
    },
    {
      "cell_type": "code",
      "source": [
        "condition_path = '주문경로 == \"모바일웹\"'\n",
        "df_smdwd_path = df_smdwd.query(condition_path)\n",
        "condition_ave ='상품구매금액 >= 상품구매금액.mean()'\n",
        "df_smdwd_2 = df_smdwd_path.query(condition_ave)\n",
        "df_smdwd_path['상품구매금액'].mean(), df_smdwd_2.info(), df_smdwd_2['주문경로'].describe(include=object), df_smdwd_2['상품구매금액'].min()"
      ],
      "metadata": {
        "colab": {
          "base_uri": "https://localhost:8080/"
        },
        "id": "8QyL-kXGjwSi",
        "outputId": "79c85d05-cc22-4d5e-8a0b-4ccce73c9c49"
      },
      "execution_count": 11,
      "outputs": [
        {
          "output_type": "stream",
          "name": "stdout",
          "text": [
            "<class 'pandas.core.frame.DataFrame'>\n",
            "Int64Index: 8835 entries, 1 to 46748\n",
            "Data columns (total 9 columns):\n",
            " #   Column  Non-Null Count  Dtype  \n",
            "---  ------  --------------  -----  \n",
            " 0   결제수단    8835 non-null   object \n",
            " 1   배송번호    8835 non-null   object \n",
            " 2   배송시작일   8835 non-null   object \n",
            " 3   배송완료일   8835 non-null   object \n",
            " 4   상품구매금액  8835 non-null   int64  \n",
            " 5   상품번호    8832 non-null   float64\n",
            " 6   수량      8835 non-null   int64  \n",
            " 7   주문경로    8835 non-null   object \n",
            " 8   주문일     8835 non-null   int64  \n",
            "dtypes: float64(1), int64(3), object(5)\n",
            "memory usage: 690.2+ KB\n"
          ]
        },
        {
          "output_type": "execute_result",
          "data": {
            "text/plain": [
              "(68979.56181533646,\n",
              " None,\n",
              " count     8835\n",
              " unique       1\n",
              " top       모바일웹\n",
              " freq      8835\n",
              " Name: 주문경로, dtype: object,\n",
              " 69000)"
            ]
          },
          "metadata": {},
          "execution_count": 11
        }
      ]
    },
    {
      "cell_type": "markdown",
      "source": [
        "### 3. 2019년 1월 7일 이전에 배송이 시작된 주문들을 찾으세요."
      ],
      "metadata": {
        "id": "7lCGQIloG-v3"
      }
    },
    {
      "cell_type": "code",
      "source": [
        "def convert_time(x):\n",
        "    date, ampm, time = x.split()\n",
        "    if ampm == \"오후\" and time != \"12:00\":\n",
        "        hour, minute = map(int, time.split(\":\"))\n",
        "        time = f\"{hour+12 if hour != 12 else hour}:{minute}\"\n",
        "    return pd.to_datetime(f\"{date} {time}\", format=\"%Y-%m-%d %H:%M\")\n",
        "\n",
        "df_smdwd['배송시작일_date'] = df_smdwd['배송시작일'].apply(convert_time)"
      ],
      "metadata": {
        "id": "tIjw_VhRkSxr"
      },
      "execution_count": 12,
      "outputs": []
    },
    {
      "cell_type": "code",
      "source": [
        "con_delivery = '배송시작일_date < \"2019-01-07 00:00:00\"'\n",
        "df_smdwd_3 = df_smdwd.query(con_delivery)\n",
        "df_smdwd_3.info() , df_smdwd_3['배송시작일_date'].max()"
      ],
      "metadata": {
        "colab": {
          "base_uri": "https://localhost:8080/"
        },
        "id": "a37nL_Qwnvjc",
        "outputId": "9c822287-af3f-41a0-ff8c-8ddc17189a21"
      },
      "execution_count": 13,
      "outputs": [
        {
          "output_type": "stream",
          "name": "stdout",
          "text": [
            "<class 'pandas.core.frame.DataFrame'>\n",
            "Int64Index: 29498 entries, 1 to 46748\n",
            "Data columns (total 10 columns):\n",
            " #   Column      Non-Null Count  Dtype         \n",
            "---  ------      --------------  -----         \n",
            " 0   결제수단        29498 non-null  object        \n",
            " 1   배송번호        29498 non-null  object        \n",
            " 2   배송시작일       29498 non-null  object        \n",
            " 3   배송완료일       29498 non-null  object        \n",
            " 4   상품구매금액      29498 non-null  int64         \n",
            " 5   상품번호        29410 non-null  float64       \n",
            " 6   수량          29498 non-null  int64         \n",
            " 7   주문경로        29498 non-null  object        \n",
            " 8   주문일         29498 non-null  int64         \n",
            " 9   배송시작일_date  29498 non-null  datetime64[ns]\n",
            "dtypes: datetime64[ns](1), float64(1), int64(3), object(5)\n",
            "memory usage: 2.5+ MB\n"
          ]
        },
        {
          "output_type": "execute_result",
          "data": {
            "text/plain": [
              "(None, Timestamp('2019-01-03 18:20:00'))"
            ]
          },
          "metadata": {},
          "execution_count": 13
        }
      ]
    },
    {
      "cell_type": "markdown",
      "source": [
        "### 4. 배송 시작일과 배송 완료일이 3일 이상 차이 나는 주문들을 찾으세요."
      ],
      "metadata": {
        "id": "LHQ9TjX9HEwz"
      }
    },
    {
      "cell_type": "code",
      "source": [
        "def convert_time(x):\n",
        "    date, ampm, time = x.split()\n",
        "    if ampm == \"오후\" and time != \"12:00\":\n",
        "        hour, minute = map(int, time.split(\":\"))\n",
        "        time = f\"{hour+12 if hour != 12 else hour}:{minute}\"\n",
        "    return pd.to_datetime(f\"{date} {time}\", format=\"%Y-%m-%d %H:%M\")\n",
        "\n",
        "df_smdwd['배송완료일_date'] = df_smdwd['배송완료일'].apply(convert_time)"
      ],
      "metadata": {
        "id": "mS025UOWsFlJ"
      },
      "execution_count": 14,
      "outputs": []
    },
    {
      "cell_type": "code",
      "source": [
        "df_smdwd['배송소요일'] = df_smdwd['배송완료일_date'] - df_smdwd['배송시작일_date']\n",
        "df_smdwd_3days = df_smdwd[df_smdwd['배송소요일'] >= pd.Timedelta(days=3)]\n",
        "df_smdwd_3days.info(),df_smdwd_3days['배송소요일'].min()"
      ],
      "metadata": {
        "colab": {
          "base_uri": "https://localhost:8080/"
        },
        "id": "VQZIyW_Hnya8",
        "outputId": "9333619d-930c-4a1f-f043-bacf7c476d93"
      },
      "execution_count": 15,
      "outputs": [
        {
          "output_type": "stream",
          "name": "stdout",
          "text": [
            "<class 'pandas.core.frame.DataFrame'>\n",
            "Int64Index: 46227 entries, 0 to 46748\n",
            "Data columns (total 12 columns):\n",
            " #   Column      Non-Null Count  Dtype          \n",
            "---  ------      --------------  -----          \n",
            " 0   결제수단        46227 non-null  object         \n",
            " 1   배송번호        46227 non-null  object         \n",
            " 2   배송시작일       46227 non-null  object         \n",
            " 3   배송완료일       46227 non-null  object         \n",
            " 4   상품구매금액      46227 non-null  int64          \n",
            " 5   상품번호        46162 non-null  float64        \n",
            " 6   수량          46227 non-null  int64          \n",
            " 7   주문경로        46227 non-null  object         \n",
            " 8   주문일         46227 non-null  int64          \n",
            " 9   배송시작일_date  46227 non-null  datetime64[ns] \n",
            " 10  배송완료일_date  46227 non-null  datetime64[ns] \n",
            " 11  배송소요일       46227 non-null  timedelta64[ns]\n",
            "dtypes: datetime64[ns](2), float64(1), int64(3), object(5), timedelta64[ns](1)\n",
            "memory usage: 4.6+ MB\n"
          ]
        },
        {
          "output_type": "execute_result",
          "data": {
            "text/plain": [
              "(None, Timedelta('3 days 00:22:00'))"
            ]
          },
          "metadata": {},
          "execution_count": 15
        }
      ]
    },
    {
      "cell_type": "markdown",
      "source": [
        "### 5. 무통장입금을 결제수단으로 사용한 주문 중, 상품번호가 1000번 이상인 주문들을 찾으세요."
      ],
      "metadata": {
        "id": "2m5Suh2VHKFa"
      }
    },
    {
      "cell_type": "code",
      "source": [
        "con_first = '결제수단 == \"무통장입금\"'\n",
        "con_second = '상품번호 >= 1000'\n",
        "conditions = f'{con_first} and {con_second}'\n",
        "df_smdwd_5 = df_smdwd.query(conditions)\n",
        "df_smdwd_5.info(), df_smdwd_5['결제수단'].describe(include=object), df_smdwd_5['상품번호'].min()"
      ],
      "metadata": {
        "colab": {
          "base_uri": "https://localhost:8080/"
        },
        "id": "VPBjYWrGsm-0",
        "outputId": "01239faf-b34a-4f46-b9bd-45b5c44101f2"
      },
      "execution_count": 16,
      "outputs": [
        {
          "output_type": "stream",
          "name": "stdout",
          "text": [
            "<class 'pandas.core.frame.DataFrame'>\n",
            "Int64Index: 11769 entries, 0 to 45118\n",
            "Data columns (total 12 columns):\n",
            " #   Column      Non-Null Count  Dtype          \n",
            "---  ------      --------------  -----          \n",
            " 0   결제수단        11769 non-null  object         \n",
            " 1   배송번호        11769 non-null  object         \n",
            " 2   배송시작일       11769 non-null  object         \n",
            " 3   배송완료일       11769 non-null  object         \n",
            " 4   상품구매금액      11769 non-null  int64          \n",
            " 5   상품번호        11769 non-null  float64        \n",
            " 6   수량          11769 non-null  int64          \n",
            " 7   주문경로        11769 non-null  object         \n",
            " 8   주문일         11769 non-null  int64          \n",
            " 9   배송시작일_date  11769 non-null  datetime64[ns] \n",
            " 10  배송완료일_date  11769 non-null  datetime64[ns] \n",
            " 11  배송소요일       11769 non-null  timedelta64[ns]\n",
            "dtypes: datetime64[ns](2), float64(1), int64(3), object(5), timedelta64[ns](1)\n",
            "memory usage: 1.2+ MB\n"
          ]
        },
        {
          "output_type": "execute_result",
          "data": {
            "text/plain": [
              "(None,\n",
              " count     11769\n",
              " unique        1\n",
              " top       무통장입금\n",
              " freq      11769\n",
              " Name: 결제수단, dtype: object,\n",
              " 1017.0)"
            ]
          },
          "metadata": {},
          "execution_count": 16
        }
      ]
    },
    {
      "cell_type": "markdown",
      "source": [
        "### 6. 상품번호가 50번 이하이거나 1000번 이상인 주문들을 찾으세요."
      ],
      "metadata": {
        "id": "1ievfbRBHNgi"
      }
    },
    {
      "cell_type": "code",
      "source": [
        "df_smdwd_6 = df_smdwd.query('not (50 < 상품번호 < 1000)')\n",
        "df_smdwd_6_1 = df_smdwd_6[df_smdwd_6['상품번호'].notnull()]\n",
        "df_smdwd_6_1.info(), df_smdwd_6_1['상품번호'].describe(), df_smdwd_6_1['상품번호']"
      ],
      "metadata": {
        "colab": {
          "base_uri": "https://localhost:8080/"
        },
        "id": "8r8phWONx0JT",
        "outputId": "990f30bd-c08e-4ba5-f513-e91dc07b09f2"
      },
      "execution_count": 81,
      "outputs": [
        {
          "output_type": "stream",
          "name": "stdout",
          "text": [
            "<class 'pandas.core.frame.DataFrame'>\n",
            "Int64Index: 24907 entries, 0 to 46733\n",
            "Data columns (total 13 columns):\n",
            " #   Column      Non-Null Count  Dtype          \n",
            "---  ------      --------------  -----          \n",
            " 0   결제수단        24907 non-null  object         \n",
            " 1   배송번호        24907 non-null  object         \n",
            " 2   배송시작일       24907 non-null  object         \n",
            " 3   배송완료일       24907 non-null  object         \n",
            " 4   상품구매금액      24907 non-null  int64          \n",
            " 5   상품번호        24907 non-null  float64        \n",
            " 6   수량          24907 non-null  int64          \n",
            " 7   주문경로        24907 non-null  object         \n",
            " 8   주문일         24907 non-null  int64          \n",
            " 9   배송시작일_date  24907 non-null  datetime64[ns] \n",
            " 10  배송완료일_date  24907 non-null  datetime64[ns] \n",
            " 11  배송소요일       24907 non-null  timedelta64[ns]\n",
            " 12  주문일_date    24907 non-null  datetime64[ns] \n",
            "dtypes: datetime64[ns](3), float64(1), int64(3), object(5), timedelta64[ns](1)\n",
            "memory usage: 2.7+ MB\n"
          ]
        },
        {
          "output_type": "execute_result",
          "data": {
            "text/plain": [
              "(None,\n",
              " count    24907.000000\n",
              " mean      1068.349460\n",
              " std        386.075495\n",
              " min         38.000000\n",
              " 25%       1070.000000\n",
              " 50%       1205.000000\n",
              " 75%       1267.000000\n",
              " max       1681.000000\n",
              " Name: 상품번호, dtype: float64,\n",
              " 0        1077.0\n",
              " 1          42.0\n",
              " 2        1271.0\n",
              " 3        1085.0\n",
              " 4        1106.0\n",
              "           ...  \n",
              " 46697      46.0\n",
              " 46698      45.0\n",
              " 46720      42.0\n",
              " 46722      42.0\n",
              " 46733      43.0\n",
              " Name: 상품번호, Length: 24907, dtype: float64)"
            ]
          },
          "metadata": {},
          "execution_count": 81
        }
      ]
    },
    {
      "cell_type": "code",
      "source": [
        "if not df_smdwd_6['상품번호'].isin(range(51, 1000)).any():\n",
        "    print(\"There are no values between 50 and 1000 in the '상품번호' column.\")\n",
        "else:\n",
        "    print(\"There are values between 50 and 1000 in the '상품번호' column.\")"
      ],
      "metadata": {
        "colab": {
          "base_uri": "https://localhost:8080/"
        },
        "id": "JxBxHV9gTV1M",
        "outputId": "624eced6-1d76-4cc4-9e68-d8605349fae4"
      },
      "execution_count": 49,
      "outputs": [
        {
          "output_type": "stream",
          "name": "stdout",
          "text": [
            "There are no values between 50 and 1000 in the '상품번호' column.\n"
          ]
        }
      ]
    },
    {
      "cell_type": "markdown",
      "source": [
        "### 7. 주문일이 20181231인 주문 중, 수량이 1개 이상인 주문들을 찾으세요."
      ],
      "metadata": {
        "id": "SilyK1AkHTdv"
      }
    },
    {
      "cell_type": "code",
      "source": [
        "df_smdwd['주문일_date'] = pd.to_datetime(df_smdwd['주문일'],format='%Y%m%d')\n",
        "con_date = '주문일 == 20181231'\n",
        "con_qty = '수량 >= 1'\n",
        "con_order = f'{con_date} and {con_qty}'\n",
        "df_smdwd_7 = df_smdwd.query(con_order)\n",
        "df_smdwd_7.info() , df_smdwd_7['주문일_date'].describe(datetime_is_numeric=True), df_smdwd_7['수량'].describe()"
      ],
      "metadata": {
        "colab": {
          "base_uri": "https://localhost:8080/"
        },
        "id": "82pDBnUO2EAu",
        "outputId": "b9e1331f-9585-4ced-c5a5-e247044a9abb"
      },
      "execution_count": 33,
      "outputs": [
        {
          "output_type": "stream",
          "name": "stdout",
          "text": [
            "<class 'pandas.core.frame.DataFrame'>\n",
            "Int64Index: 167 entries, 3 to 45117\n",
            "Data columns (total 13 columns):\n",
            " #   Column      Non-Null Count  Dtype          \n",
            "---  ------      --------------  -----          \n",
            " 0   결제수단        167 non-null    object         \n",
            " 1   배송번호        167 non-null    object         \n",
            " 2   배송시작일       167 non-null    object         \n",
            " 3   배송완료일       167 non-null    object         \n",
            " 4   상품구매금액      167 non-null    int64          \n",
            " 5   상품번호        167 non-null    float64        \n",
            " 6   수량          167 non-null    int64          \n",
            " 7   주문경로        167 non-null    object         \n",
            " 8   주문일         167 non-null    int64          \n",
            " 9   배송시작일_date  167 non-null    datetime64[ns] \n",
            " 10  배송완료일_date  167 non-null    datetime64[ns] \n",
            " 11  배송소요일       167 non-null    timedelta64[ns]\n",
            " 12  주문일_date    167 non-null    datetime64[ns] \n",
            "dtypes: datetime64[ns](3), float64(1), int64(3), object(5), timedelta64[ns](1)\n",
            "memory usage: 18.3+ KB\n"
          ]
        },
        {
          "output_type": "execute_result",
          "data": {
            "text/plain": [
              "(None,\n",
              " count                    167\n",
              " mean     2018-12-31 00:00:00\n",
              " min      2018-12-31 00:00:00\n",
              " 25%      2018-12-31 00:00:00\n",
              " 50%      2018-12-31 00:00:00\n",
              " 75%      2018-12-31 00:00:00\n",
              " max      2018-12-31 00:00:00\n",
              " Name: 주문일_date, dtype: object,\n",
              " count    167.000000\n",
              " mean       1.125749\n",
              " std        0.427653\n",
              " min        1.000000\n",
              " 25%        1.000000\n",
              " 50%        1.000000\n",
              " 75%        1.000000\n",
              " max        4.000000\n",
              " Name: 수량, dtype: float64)"
            ]
          },
          "metadata": {},
          "execution_count": 33
        }
      ]
    },
    {
      "cell_type": "markdown",
      "source": [
        "### 8. PC쇼핑몰을 통해 주문된 상품 중, 배송번호가 'D-20181231'로 시작하는 주문들을 찾으세요"
      ],
      "metadata": {
        "id": "6riMN1z-Hcla"
      }
    },
    {
      "cell_type": "code",
      "source": [
        "df_smdwd_newpath = df_smdwd.query('주문경로 == \"PC쇼핑몰\"')\n",
        "df_smdwd_8 = df_smdwd_newpath[df_smdwd_newpath['배송번호'].str.contains('D-20181231')==True]\n",
        "df_smdwd_8.info(),df_smdwd_8['주문경로'].describe(include=object), df_smdwd_8['배송번호'].max(),df_smdwd_8['배송번호'].min()"
      ],
      "metadata": {
        "colab": {
          "base_uri": "https://localhost:8080/"
        },
        "id": "fdZi-Kjp3sHm",
        "outputId": "08e63342-4d37-4ce9-e465-198b2b29c69c"
      },
      "execution_count": 34,
      "outputs": [
        {
          "output_type": "stream",
          "name": "stdout",
          "text": [
            "<class 'pandas.core.frame.DataFrame'>\n",
            "Int64Index: 92 entries, 6 to 45105\n",
            "Data columns (total 13 columns):\n",
            " #   Column      Non-Null Count  Dtype          \n",
            "---  ------      --------------  -----          \n",
            " 0   결제수단        92 non-null     object         \n",
            " 1   배송번호        92 non-null     object         \n",
            " 2   배송시작일       92 non-null     object         \n",
            " 3   배송완료일       92 non-null     object         \n",
            " 4   상품구매금액      92 non-null     int64          \n",
            " 5   상품번호        92 non-null     float64        \n",
            " 6   수량          92 non-null     int64          \n",
            " 7   주문경로        92 non-null     object         \n",
            " 8   주문일         92 non-null     int64          \n",
            " 9   배송시작일_date  92 non-null     datetime64[ns] \n",
            " 10  배송완료일_date  92 non-null     datetime64[ns] \n",
            " 11  배송소요일       92 non-null     timedelta64[ns]\n",
            " 12  주문일_date    92 non-null     datetime64[ns] \n",
            "dtypes: datetime64[ns](3), float64(1), int64(3), object(5), timedelta64[ns](1)\n",
            "memory usage: 10.1+ KB\n"
          ]
        },
        {
          "output_type": "execute_result",
          "data": {
            "text/plain": [
              "(None,\n",
              " count        92\n",
              " unique        1\n",
              " top       PC쇼핑몰\n",
              " freq         92\n",
              " Name: 주문경로, dtype: object,\n",
              " 'D-20181231-0000953-00',\n",
              " 'D-20181231-0000025-00')"
            ]
          },
          "metadata": {},
          "execution_count": 34
        }
      ]
    },
    {
      "cell_type": "markdown",
      "source": [
        "### 9. 상품구매금액이 70,000원 이상 100,000원 이하인 주문들 중, 수량이 1개인 주문들을 찾으세요."
      ],
      "metadata": {
        "id": "d9Ckiba9HfVg"
      }
    },
    {
      "cell_type": "code",
      "source": [
        "con_fee = '100000 >= 상품구매금액 >= 70000'\n",
        "con_quantity = '수량 == 1'\n",
        "condition_9 = f\"{con_fee} and {con_quantity}\"\n",
        "df_smdwd_9 = df_smdwd.query(condition_9)\n",
        "df_smdwd_9.info(), df_smdwd_9['상품구매금액'].describe(), df_smdwd_9['수량'].describe()"
      ],
      "metadata": {
        "colab": {
          "base_uri": "https://localhost:8080/"
        },
        "id": "sgi3Xjjj4sv_",
        "outputId": "a6a44c53-c352-40fc-cb02-62278d29e252"
      },
      "execution_count": 35,
      "outputs": [
        {
          "output_type": "stream",
          "name": "stdout",
          "text": [
            "<class 'pandas.core.frame.DataFrame'>\n",
            "Int64Index: 12668 entries, 0 to 46748\n",
            "Data columns (total 13 columns):\n",
            " #   Column      Non-Null Count  Dtype          \n",
            "---  ------      --------------  -----          \n",
            " 0   결제수단        12668 non-null  object         \n",
            " 1   배송번호        12668 non-null  object         \n",
            " 2   배송시작일       12668 non-null  object         \n",
            " 3   배송완료일       12668 non-null  object         \n",
            " 4   상품구매금액      12668 non-null  int64          \n",
            " 5   상품번호        12657 non-null  float64        \n",
            " 6   수량          12668 non-null  int64          \n",
            " 7   주문경로        12668 non-null  object         \n",
            " 8   주문일         12668 non-null  int64          \n",
            " 9   배송시작일_date  12668 non-null  datetime64[ns] \n",
            " 10  배송완료일_date  12668 non-null  datetime64[ns] \n",
            " 11  배송소요일       12668 non-null  timedelta64[ns]\n",
            " 12  주문일_date    12668 non-null  datetime64[ns] \n",
            "dtypes: datetime64[ns](3), float64(1), int64(3), object(5), timedelta64[ns](1)\n",
            "memory usage: 1.4+ MB\n"
          ]
        },
        {
          "output_type": "execute_result",
          "data": {
            "text/plain": [
              "(None,\n",
              " count     12668.000000\n",
              " mean      81827.637354\n",
              " std        8132.625374\n",
              " min       70000.000000\n",
              " 25%       75390.000000\n",
              " 50%       78870.000000\n",
              " 75%       87120.000000\n",
              " max      100000.000000\n",
              " Name: 상품구매금액, dtype: float64,\n",
              " count    12668.0\n",
              " mean         1.0\n",
              " std          0.0\n",
              " min          1.0\n",
              " 25%          1.0\n",
              " 50%          1.0\n",
              " 75%          1.0\n",
              " max          1.0\n",
              " Name: 수량, dtype: float64)"
            ]
          },
          "metadata": {},
          "execution_count": 35
        }
      ]
    },
    {
      "cell_type": "markdown",
      "source": [
        "### 10. 모바일웹을 통한 주문 중, 배송번호가 'D-20181230' 이후로 시작되고 상품구매금액이 50,000원 이상인 주문들을 찾으세요."
      ],
      "metadata": {
        "id": "plJtcAGfHiaA"
      }
    },
    {
      "cell_type": "code",
      "source": [
        "df_smdwd_mobile = df_smdwd.query('주문경로 == \"모바일웹\"')\n",
        "df_smdwd_mobile_50000 = df_smdwd_mobile.query('상품구매금액 >= 50000')\n",
        "df_smdwd_mobile_50000_10 = df_smdwd_mobile_50000.query('배송번호 > \"D-20181230\"')\n",
        "df_smdwd_mobile_50000_10.info(), df_smdwd_mobile_50000_10['배송번호'].min(), df_smdwd_mobile_50000_10['상품구매금액'].min()"
      ],
      "metadata": {
        "colab": {
          "base_uri": "https://localhost:8080/"
        },
        "id": "Vn9NxY4Z4sgO",
        "outputId": "b9785ca1-3a74-4c55-8768-6109aa352368"
      },
      "execution_count": 37,
      "outputs": [
        {
          "output_type": "stream",
          "name": "stdout",
          "text": [
            "<class 'pandas.core.frame.DataFrame'>\n",
            "Int64Index: 6474 entries, 3 to 45117\n",
            "Data columns (total 13 columns):\n",
            " #   Column      Non-Null Count  Dtype          \n",
            "---  ------      --------------  -----          \n",
            " 0   결제수단        6474 non-null   object         \n",
            " 1   배송번호        6474 non-null   object         \n",
            " 2   배송시작일       6474 non-null   object         \n",
            " 3   배송완료일       6474 non-null   object         \n",
            " 4   상품구매금액      6474 non-null   int64          \n",
            " 5   상품번호        6474 non-null   float64        \n",
            " 6   수량          6474 non-null   int64          \n",
            " 7   주문경로        6474 non-null   object         \n",
            " 8   주문일         6474 non-null   int64          \n",
            " 9   배송시작일_date  6474 non-null   datetime64[ns] \n",
            " 10  배송완료일_date  6474 non-null   datetime64[ns] \n",
            " 11  배송소요일       6474 non-null   timedelta64[ns]\n",
            " 12  주문일_date    6474 non-null   datetime64[ns] \n",
            "dtypes: datetime64[ns](3), float64(1), int64(3), object(5), timedelta64[ns](1)\n",
            "memory usage: 708.1+ KB\n"
          ]
        },
        {
          "output_type": "execute_result",
          "data": {
            "text/plain": [
              "(None, 'D-20181230-0000017-00', 50160)"
            ]
          },
          "metadata": {},
          "execution_count": 37
        }
      ]
    },
    {
      "cell_type": "markdown",
      "source": [
        "### 11. 주문일이 2018년 12월 이후이고 상품구매금액이 50,000원 미만인 주문을 찾기."
      ],
      "metadata": {
        "id": "4iix8RMjI_40"
      }
    },
    {
      "cell_type": "code",
      "source": [
        "df_smdwd['주문일_date']\n",
        "df_smdwd_11 = df_smdwd.query('주문일_date > \"2018-12-31\" and 상품구매금액 < 50000')\n",
        "df_smdwd_11.info(), df_smdwd_11['주문일_date'].min() , df_smdwd_11['상품구매금액'].max()"
      ],
      "metadata": {
        "colab": {
          "base_uri": "https://localhost:8080/"
        },
        "id": "ObcJrDhjJH8h",
        "outputId": "e2b5ac6f-2d9a-49b6-8cdb-375ddc4b36df"
      },
      "execution_count": 38,
      "outputs": [
        {
          "output_type": "stream",
          "name": "stdout",
          "text": [
            "<class 'pandas.core.frame.DataFrame'>\n",
            "Int64Index: 2891 entries, 41 to 17535\n",
            "Data columns (total 13 columns):\n",
            " #   Column      Non-Null Count  Dtype          \n",
            "---  ------      --------------  -----          \n",
            " 0   결제수단        2891 non-null   object         \n",
            " 1   배송번호        2891 non-null   object         \n",
            " 2   배송시작일       2891 non-null   object         \n",
            " 3   배송완료일       2891 non-null   object         \n",
            " 4   상품구매금액      2891 non-null   int64          \n",
            " 5   상품번호        2891 non-null   float64        \n",
            " 6   수량          2891 non-null   int64          \n",
            " 7   주문경로        2891 non-null   object         \n",
            " 8   주문일         2891 non-null   int64          \n",
            " 9   배송시작일_date  2891 non-null   datetime64[ns] \n",
            " 10  배송완료일_date  2891 non-null   datetime64[ns] \n",
            " 11  배송소요일       2891 non-null   timedelta64[ns]\n",
            " 12  주문일_date    2891 non-null   datetime64[ns] \n",
            "dtypes: datetime64[ns](3), float64(1), int64(3), object(5), timedelta64[ns](1)\n",
            "memory usage: 316.2+ KB\n"
          ]
        },
        {
          "output_type": "execute_result",
          "data": {
            "text/plain": [
              "(None, Timestamp('2019-01-01 00:00:00'), 49900)"
            ]
          },
          "metadata": {},
          "execution_count": 38
        }
      ]
    },
    {
      "cell_type": "markdown",
      "source": [
        "### 12. 배송시작일이 2019년 1월 1일 이후이며, 결제수단이 '무통장입금'인 주문을 찾기."
      ],
      "metadata": {
        "id": "LjPUAOxGWLH0"
      }
    },
    {
      "cell_type": "code",
      "source": [
        "cond_deli = '배송시작일_date > \"2019-01-01 23:59:59\"'\n",
        "con_pay = '결제수단 == \"무통장입금\"'\n",
        "con_12 = f\"{cond_deli} and {con_pay}\"\n",
        "df_smdwd_12 = df_smdwd.query(con_12)\n",
        "df_smdwd_12.info(), df_smdwd_12['배송시작일_date'].min(), df_smdwd_12['결제수단'].describe(include=object)"
      ],
      "metadata": {
        "colab": {
          "base_uri": "https://localhost:8080/"
        },
        "id": "5ut8nOL2JlnI",
        "outputId": "e977eb7c-0b4d-413c-8e18-05af5bac0448"
      },
      "execution_count": 39,
      "outputs": [
        {
          "output_type": "stream",
          "name": "stdout",
          "text": [
            "<class 'pandas.core.frame.DataFrame'>\n",
            "Int64Index: 9076 entries, 0 to 45118\n",
            "Data columns (total 13 columns):\n",
            " #   Column      Non-Null Count  Dtype          \n",
            "---  ------      --------------  -----          \n",
            " 0   결제수단        9076 non-null   object         \n",
            " 1   배송번호        9076 non-null   object         \n",
            " 2   배송시작일       9076 non-null   object         \n",
            " 3   배송완료일       9076 non-null   object         \n",
            " 4   상품구매금액      9076 non-null   int64          \n",
            " 5   상품번호        9076 non-null   float64        \n",
            " 6   수량          9076 non-null   int64          \n",
            " 7   주문경로        9076 non-null   object         \n",
            " 8   주문일         9076 non-null   int64          \n",
            " 9   배송시작일_date  9076 non-null   datetime64[ns] \n",
            " 10  배송완료일_date  9076 non-null   datetime64[ns] \n",
            " 11  배송소요일       9076 non-null   timedelta64[ns]\n",
            " 12  주문일_date    9076 non-null   datetime64[ns] \n",
            "dtypes: datetime64[ns](3), float64(1), int64(3), object(5), timedelta64[ns](1)\n",
            "memory usage: 992.7+ KB\n"
          ]
        },
        {
          "output_type": "execute_result",
          "data": {
            "text/plain": [
              "(None,\n",
              " Timestamp('2019-01-03 09:28:00'),\n",
              " count      9076\n",
              " unique        1\n",
              " top       무통장입금\n",
              " freq       9076\n",
              " Name: 결제수단, dtype: object)"
            ]
          },
          "metadata": {},
          "execution_count": 39
        }
      ]
    },
    {
      "cell_type": "markdown",
      "source": [
        "### 13. 상품번호가 1000 이상 2000 미만인 주문 중에서 수량이 2개 이상인 주문을 찾기."
      ],
      "metadata": {
        "id": "1hSMV9YOXcyC"
      }
    },
    {
      "cell_type": "code",
      "source": [
        "item_num = '2000 > 상품번호 >= 1000'\n",
        "qty_2 = \"수량 >= 2\"\n",
        "con_13 = f\"{item_num} and {qty_2}\"\n",
        "df_smdwd_13 = df_smdwd.query(con_13)\n",
        "df_smdwd_13.info(), df_smdwd_13['상품번호'].describe(), df_smdwd_13['수량'].describe()"
      ],
      "metadata": {
        "colab": {
          "base_uri": "https://localhost:8080/"
        },
        "id": "pbQuNLRDW-Gy",
        "outputId": "fa7aac73-0803-4bfb-9600-47c7aa1b551c"
      },
      "execution_count": 40,
      "outputs": [
        {
          "output_type": "stream",
          "name": "stdout",
          "text": [
            "<class 'pandas.core.frame.DataFrame'>\n",
            "Int64Index: 2781 entries, 8 to 45118\n",
            "Data columns (total 13 columns):\n",
            " #   Column      Non-Null Count  Dtype          \n",
            "---  ------      --------------  -----          \n",
            " 0   결제수단        2781 non-null   object         \n",
            " 1   배송번호        2781 non-null   object         \n",
            " 2   배송시작일       2781 non-null   object         \n",
            " 3   배송완료일       2781 non-null   object         \n",
            " 4   상품구매금액      2781 non-null   int64          \n",
            " 5   상품번호        2781 non-null   float64        \n",
            " 6   수량          2781 non-null   int64          \n",
            " 7   주문경로        2781 non-null   object         \n",
            " 8   주문일         2781 non-null   int64          \n",
            " 9   배송시작일_date  2781 non-null   datetime64[ns] \n",
            " 10  배송완료일_date  2781 non-null   datetime64[ns] \n",
            " 11  배송소요일       2781 non-null   timedelta64[ns]\n",
            " 12  주문일_date    2781 non-null   datetime64[ns] \n",
            "dtypes: datetime64[ns](3), float64(1), int64(3), object(5), timedelta64[ns](1)\n",
            "memory usage: 304.2+ KB\n"
          ]
        },
        {
          "output_type": "execute_result",
          "data": {
            "text/plain": [
              "(None,\n",
              " count    2781.000000\n",
              " mean     1228.533981\n",
              " std       135.736931\n",
              " min      1017.000000\n",
              " 25%      1077.000000\n",
              " 50%      1266.000000\n",
              " 75%      1373.000000\n",
              " max      1625.000000\n",
              " Name: 상품번호, dtype: float64,\n",
              " count    2781.000000\n",
              " mean        2.432219\n",
              " std         0.920290\n",
              " min         2.000000\n",
              " 25%         2.000000\n",
              " 50%         2.000000\n",
              " 75%         3.000000\n",
              " max        10.000000\n",
              " Name: 수량, dtype: float64)"
            ]
          },
          "metadata": {},
          "execution_count": 40
        }
      ]
    },
    {
      "cell_type": "markdown",
      "source": [
        "### 14. 배송완료일이 배송시작일보다 5일 이상 차이 나는 주문을 찾기."
      ],
      "metadata": {
        "id": "iPL61nMcYMH8"
      }
    },
    {
      "cell_type": "code",
      "source": [
        "df_smdwd_14 = df_smdwd[df_smdwd['배송소요일'] >= pd.Timedelta(days=5)]\n",
        "df_smdwd_14.info(),df_smdwd_14['배송소요일'].describe(include=datetime),df_smdwd_14['배송소요일'].min()"
      ],
      "metadata": {
        "colab": {
          "base_uri": "https://localhost:8080/"
        },
        "id": "xfdov6_jXoyS",
        "outputId": "cbc29022-746f-4f5f-d681-878718d5fb3e"
      },
      "execution_count": 41,
      "outputs": [
        {
          "output_type": "stream",
          "name": "stdout",
          "text": [
            "<class 'pandas.core.frame.DataFrame'>\n",
            "Int64Index: 2509 entries, 41 to 46746\n",
            "Data columns (total 13 columns):\n",
            " #   Column      Non-Null Count  Dtype          \n",
            "---  ------      --------------  -----          \n",
            " 0   결제수단        2509 non-null   object         \n",
            " 1   배송번호        2509 non-null   object         \n",
            " 2   배송시작일       2509 non-null   object         \n",
            " 3   배송완료일       2509 non-null   object         \n",
            " 4   상품구매금액      2509 non-null   int64          \n",
            " 5   상품번호        2448 non-null   float64        \n",
            " 6   수량          2509 non-null   int64          \n",
            " 7   주문경로        2509 non-null   object         \n",
            " 8   주문일         2509 non-null   int64          \n",
            " 9   배송시작일_date  2509 non-null   datetime64[ns] \n",
            " 10  배송완료일_date  2509 non-null   datetime64[ns] \n",
            " 11  배송소요일       2509 non-null   timedelta64[ns]\n",
            " 12  주문일_date    2509 non-null   datetime64[ns] \n",
            "dtypes: datetime64[ns](3), float64(1), int64(3), object(5), timedelta64[ns](1)\n",
            "memory usage: 274.4+ KB\n"
          ]
        },
        {
          "output_type": "execute_result",
          "data": {
            "text/plain": [
              "(None,\n",
              " count                         2509\n",
              " mean     7 days 19:54:23.937823834\n",
              " std      2 days 22:52:57.283540063\n",
              " min                5 days 00:04:00\n",
              " 25%                5 days 17:46:00\n",
              " 50%                7 days 20:35:00\n",
              " 75%                8 days 15:06:00\n",
              " max               46 days 18:06:00\n",
              " Name: 배송소요일, dtype: object,\n",
              " Timedelta('5 days 00:04:00'))"
            ]
          },
          "metadata": {},
          "execution_count": 41
        }
      ]
    },
    {
      "cell_type": "markdown",
      "source": [
        "### 15. 주문경로가 '모바일웹'이면서 상품구매금액이 70,000원 이상 100,000원 미만인 주문을 찾기."
      ],
      "metadata": {
        "id": "9Au28mX0Y_GW"
      }
    },
    {
      "cell_type": "code",
      "source": [
        "path_15 = '주문경로 == \"모바일웹\"'\n",
        "fee_15 = '100000 > 상품구매금액 >= 70000'\n",
        "con_15 = f\"{path_15} and {fee_15}\"\n",
        "df_smdwd_15 = df_smdwd.query(con_15)\n",
        "df_smdwd_15.info(),df_smdwd_15['주문경로'].describe(include=object), df_smdwd_15['상품구매금액'].describe()"
      ],
      "metadata": {
        "colab": {
          "base_uri": "https://localhost:8080/"
        },
        "id": "EpPgwJhKYi9r",
        "outputId": "a0050e56-8d21-4ece-a379-405531601421"
      },
      "execution_count": 42,
      "outputs": [
        {
          "output_type": "stream",
          "name": "stdout",
          "text": [
            "<class 'pandas.core.frame.DataFrame'>\n",
            "Int64Index: 5111 entries, 3 to 46748\n",
            "Data columns (total 13 columns):\n",
            " #   Column      Non-Null Count  Dtype          \n",
            "---  ------      --------------  -----          \n",
            " 0   결제수단        5111 non-null   object         \n",
            " 1   배송번호        5111 non-null   object         \n",
            " 2   배송시작일       5111 non-null   object         \n",
            " 3   배송완료일       5111 non-null   object         \n",
            " 4   상품구매금액      5111 non-null   int64          \n",
            " 5   상품번호        5110 non-null   float64        \n",
            " 6   수량          5111 non-null   int64          \n",
            " 7   주문경로        5111 non-null   object         \n",
            " 8   주문일         5111 non-null   int64          \n",
            " 9   배송시작일_date  5111 non-null   datetime64[ns] \n",
            " 10  배송완료일_date  5111 non-null   datetime64[ns] \n",
            " 11  배송소요일       5111 non-null   timedelta64[ns]\n",
            " 12  주문일_date    5111 non-null   datetime64[ns] \n",
            "dtypes: datetime64[ns](3), float64(1), int64(3), object(5), timedelta64[ns](1)\n",
            "memory usage: 559.0+ KB\n"
          ]
        },
        {
          "output_type": "execute_result",
          "data": {
            "text/plain": [
              "(None,\n",
              " count     5111\n",
              " unique       1\n",
              " top       모바일웹\n",
              " freq      5111\n",
              " Name: 주문경로, dtype: object,\n",
              " count     5111.000000\n",
              " mean     82271.036979\n",
              " std       8357.185098\n",
              " min      70000.000000\n",
              " 25%      75570.000000\n",
              " 50%      79900.000000\n",
              " 75%      87410.000000\n",
              " max      99700.000000\n",
              " Name: 상품구매금액, dtype: float64)"
            ]
          },
          "metadata": {},
          "execution_count": 42
        }
      ]
    },
    {
      "cell_type": "markdown",
      "source": [
        "### 16. 주문일이 20181230 이전이며, 배송번호가 'D-20181229' 이후로 시작하는 주문을 찾기."
      ],
      "metadata": {
        "id": "wYBDu4vOZArX"
      }
    },
    {
      "cell_type": "code",
      "source": [
        "order_16 = '주문일_date < \"2018-12-30\"'\n",
        "delivery_16 = '배송번호 > \"D-20181229\"'\n",
        "con_16 = f\"{order_16} and {delivery_16}\"\n",
        "df_smdwd_16 = df_smdwd.query(con_16)\n",
        "df_smdwd_16.info(), df_smdwd_16['주문일_date'].max(), df_smdwd_16[\"배송번호\"].describe(include=object)"
      ],
      "metadata": {
        "colab": {
          "base_uri": "https://localhost:8080/"
        },
        "id": "VKc5wKF3aXZb",
        "outputId": "febc7af7-3820-4ee7-ab92-97c11567c567"
      },
      "execution_count": 43,
      "outputs": [
        {
          "output_type": "stream",
          "name": "stdout",
          "text": [
            "<class 'pandas.core.frame.DataFrame'>\n",
            "Int64Index: 50 entries, 1 to 44937\n",
            "Data columns (total 13 columns):\n",
            " #   Column      Non-Null Count  Dtype          \n",
            "---  ------      --------------  -----          \n",
            " 0   결제수단        50 non-null     object         \n",
            " 1   배송번호        50 non-null     object         \n",
            " 2   배송시작일       50 non-null     object         \n",
            " 3   배송완료일       50 non-null     object         \n",
            " 4   상품구매금액      50 non-null     int64          \n",
            " 5   상품번호        50 non-null     float64        \n",
            " 6   수량          50 non-null     int64          \n",
            " 7   주문경로        50 non-null     object         \n",
            " 8   주문일         50 non-null     int64          \n",
            " 9   배송시작일_date  50 non-null     datetime64[ns] \n",
            " 10  배송완료일_date  50 non-null     datetime64[ns] \n",
            " 11  배송소요일       50 non-null     timedelta64[ns]\n",
            " 12  주문일_date    50 non-null     datetime64[ns] \n",
            "dtypes: datetime64[ns](3), float64(1), int64(3), object(5), timedelta64[ns](1)\n",
            "memory usage: 5.5+ KB\n"
          ]
        },
        {
          "output_type": "execute_result",
          "data": {
            "text/plain": [
              "(None,\n",
              " Timestamp('2018-12-29 00:00:00'),\n",
              " count                        50\n",
              " unique                       29\n",
              " top       D-20181229-0000158-00\n",
              " freq                          2\n",
              " Name: 배송번호, dtype: object)"
            ]
          },
          "metadata": {},
          "execution_count": 43
        }
      ]
    },
    {
      "cell_type": "markdown",
      "source": [
        "### 17. 상품번호가 50 이하이거나 1000 이상인 주문 중에서 주문경로가 'PC쇼핑몰'인 주문을 찾기."
      ],
      "metadata": {
        "id": "1-eyfgPQaPNi"
      }
    },
    {
      "cell_type": "code",
      "source": [
        "path_17 = '주문경로 == \"PC쇼핑몰\"'\n",
        "df_smdwd_17 = df_smdwd.query(path_17)\n",
        "num_17_1 = '상품번호 <= 50'\n",
        "num_17_2 = '상품번호 >= 1000'\n",
        "con_17_1 = f\"{num_17_1} or {num_17_2}\"\n",
        "df_smdwd_17_1 = df_smdwd_17.query(con_17_1)\n",
        "df_smdwd_17_1.info(), df_smdwd_17_1['상품번호'].describe(), df_smdwd_17_1['주문경로'].describe(include=object)"
      ],
      "metadata": {
        "colab": {
          "base_uri": "https://localhost:8080/"
        },
        "id": "LD8y0LVlb-wO",
        "outputId": "42013f70-8115-4e2b-ef18-679172477770"
      },
      "execution_count": 44,
      "outputs": [
        {
          "output_type": "stream",
          "name": "stdout",
          "text": [
            "<class 'pandas.core.frame.DataFrame'>\n",
            "Int64Index: 13984 entries, 0 to 46722\n",
            "Data columns (total 13 columns):\n",
            " #   Column      Non-Null Count  Dtype          \n",
            "---  ------      --------------  -----          \n",
            " 0   결제수단        13984 non-null  object         \n",
            " 1   배송번호        13984 non-null  object         \n",
            " 2   배송시작일       13984 non-null  object         \n",
            " 3   배송완료일       13984 non-null  object         \n",
            " 4   상품구매금액      13984 non-null  int64          \n",
            " 5   상품번호        13984 non-null  float64        \n",
            " 6   수량          13984 non-null  int64          \n",
            " 7   주문경로        13984 non-null  object         \n",
            " 8   주문일         13984 non-null  int64          \n",
            " 9   배송시작일_date  13984 non-null  datetime64[ns] \n",
            " 10  배송완료일_date  13984 non-null  datetime64[ns] \n",
            " 11  배송소요일       13984 non-null  timedelta64[ns]\n",
            " 12  주문일_date    13984 non-null  datetime64[ns] \n",
            "dtypes: datetime64[ns](3), float64(1), int64(3), object(5), timedelta64[ns](1)\n",
            "memory usage: 1.5+ MB\n"
          ]
        },
        {
          "output_type": "execute_result",
          "data": {
            "text/plain": [
              "(None,\n",
              " count    13984.000000\n",
              " mean      1062.955521\n",
              " std        388.760298\n",
              " min         38.000000\n",
              " 25%       1059.000000\n",
              " 50%       1203.000000\n",
              " 75%       1266.000000\n",
              " max       1681.000000\n",
              " Name: 상품번호, dtype: float64,\n",
              " count     13984\n",
              " unique        1\n",
              " top       PC쇼핑몰\n",
              " freq      13984\n",
              " Name: 주문경로, dtype: object)"
            ]
          },
          "metadata": {},
          "execution_count": 44
        }
      ]
    },
    {
      "cell_type": "code",
      "source": [
        "if not df_smdwd_17_1['상품번호'].isin(range(51, 1000)).any():\n",
        "    print(\"There are no values between 50 and 1000 in the '상품번호' column.\")\n",
        "else:\n",
        "    print(\"There are values between 50 and 1000 in the '상품번호' column.\")\n",
        "df_smdwd_17_1['주문경로'].unique()\n",
        "df_smdwd_17_1['상품번호'].values"
      ],
      "metadata": {
        "colab": {
          "base_uri": "https://localhost:8080/"
        },
        "id": "ldYU4mxEc1n3",
        "outputId": "646a349a-a8e1-4fcd-b700-a67263f555c9"
      },
      "execution_count": 45,
      "outputs": [
        {
          "output_type": "stream",
          "name": "stdout",
          "text": [
            "There are no values between 50 and 1000 in the '상품번호' column.\n"
          ]
        },
        {
          "output_type": "execute_result",
          "data": {
            "text/plain": [
              "array([1077., 1071., 1373., ...,   45.,   42.,   42.])"
            ]
          },
          "metadata": {},
          "execution_count": 45
        }
      ]
    },
    {
      "cell_type": "markdown",
      "source": [
        "### 18. 배송번호가 'D-20181231'로 시작하는 주문 중, 배송완료일이 2019년 1월 7일 이후인 주문을 찾기."
      ],
      "metadata": {
        "id": "35wJI8cwbzJ0"
      }
    },
    {
      "cell_type": "code",
      "source": [
        "delivery_18 = df_smdwd[df_smdwd['배송번호'].str.contains('D-20181231')==True]\n",
        "order_18 = '배송완료일_date > \"2019-01-07 23:59:59\"'\n",
        "df_smdwd_18 = delivery_18.query(order_18)\n",
        "df_smdwd_18.info(), df_smdwd_18['배송완료일_date'].min(), df_smdwd_18[\"배송번호\"].max()"
      ],
      "metadata": {
        "colab": {
          "base_uri": "https://localhost:8080/"
        },
        "id": "uzQnndFveaEr",
        "outputId": "a5679150-3a45-4618-b716-486840446e7e"
      },
      "execution_count": 46,
      "outputs": [
        {
          "output_type": "stream",
          "name": "stdout",
          "text": [
            "<class 'pandas.core.frame.DataFrame'>\n",
            "Int64Index: 4 entries, 4 to 45106\n",
            "Data columns (total 13 columns):\n",
            " #   Column      Non-Null Count  Dtype          \n",
            "---  ------      --------------  -----          \n",
            " 0   결제수단        4 non-null      object         \n",
            " 1   배송번호        4 non-null      object         \n",
            " 2   배송시작일       4 non-null      object         \n",
            " 3   배송완료일       4 non-null      object         \n",
            " 4   상품구매금액      4 non-null      int64          \n",
            " 5   상품번호        4 non-null      float64        \n",
            " 6   수량          4 non-null      int64          \n",
            " 7   주문경로        4 non-null      object         \n",
            " 8   주문일         4 non-null      int64          \n",
            " 9   배송시작일_date  4 non-null      datetime64[ns] \n",
            " 10  배송완료일_date  4 non-null      datetime64[ns] \n",
            " 11  배송소요일       4 non-null      timedelta64[ns]\n",
            " 12  주문일_date    4 non-null      datetime64[ns] \n",
            "dtypes: datetime64[ns](3), float64(1), int64(3), object(5), timedelta64[ns](1)\n",
            "memory usage: 448.0+ bytes\n"
          ]
        },
        {
          "output_type": "execute_result",
          "data": {
            "text/plain": [
              "(None, Timestamp('2019-01-09 14:47:00'), 'D-20181231-0000960-00')"
            ]
          },
          "metadata": {},
          "execution_count": 46
        }
      ]
    },
    {
      "cell_type": "markdown",
      "source": [
        "### 19. 주문일이 20181231이고, 수량이 2개 이상인 주문을 찾기."
      ],
      "metadata": {
        "id": "V7JSEEZvb5NG"
      }
    },
    {
      "cell_type": "code",
      "source": [
        "order_19 = '주문일_date == \"2018-12-31\"'\n",
        "qtt_19 = '수량 >= 2'\n",
        "con_19 = f\"{order_19} and {qtt_19}\"\n",
        "df_smdwd_19 = df_smdwd.query(con_19)\n",
        "df_smdwd_19.info(), df_smdwd_19['주문일_date'].describe(datetime_is_numeric=True), df_smdwd_19['수량'].describe()"
      ],
      "metadata": {
        "colab": {
          "base_uri": "https://localhost:8080/"
        },
        "id": "DNygoHEhhRzv",
        "outputId": "e6366d3a-eb4f-4e68-8b46-e75c7899c296"
      },
      "execution_count": 47,
      "outputs": [
        {
          "output_type": "stream",
          "name": "stdout",
          "text": [
            "<class 'pandas.core.frame.DataFrame'>\n",
            "Int64Index: 17 entries, 8 to 45116\n",
            "Data columns (total 13 columns):\n",
            " #   Column      Non-Null Count  Dtype          \n",
            "---  ------      --------------  -----          \n",
            " 0   결제수단        17 non-null     object         \n",
            " 1   배송번호        17 non-null     object         \n",
            " 2   배송시작일       17 non-null     object         \n",
            " 3   배송완료일       17 non-null     object         \n",
            " 4   상품구매금액      17 non-null     int64          \n",
            " 5   상품번호        17 non-null     float64        \n",
            " 6   수량          17 non-null     int64          \n",
            " 7   주문경로        17 non-null     object         \n",
            " 8   주문일         17 non-null     int64          \n",
            " 9   배송시작일_date  17 non-null     datetime64[ns] \n",
            " 10  배송완료일_date  17 non-null     datetime64[ns] \n",
            " 11  배송소요일       17 non-null     timedelta64[ns]\n",
            " 12  주문일_date    17 non-null     datetime64[ns] \n",
            "dtypes: datetime64[ns](3), float64(1), int64(3), object(5), timedelta64[ns](1)\n",
            "memory usage: 1.9+ KB\n"
          ]
        },
        {
          "output_type": "execute_result",
          "data": {
            "text/plain": [
              "(None,\n",
              " count                     17\n",
              " mean     2018-12-31 00:00:00\n",
              " min      2018-12-31 00:00:00\n",
              " 25%      2018-12-31 00:00:00\n",
              " 50%      2018-12-31 00:00:00\n",
              " 75%      2018-12-31 00:00:00\n",
              " max      2018-12-31 00:00:00\n",
              " Name: 주문일_date, dtype: object,\n",
              " count    17.000000\n",
              " mean      2.235294\n",
              " std       0.664211\n",
              " min       2.000000\n",
              " 25%       2.000000\n",
              " 50%       2.000000\n",
              " 75%       2.000000\n",
              " max       4.000000\n",
              " Name: 수량, dtype: float64)"
            ]
          },
          "metadata": {},
          "execution_count": 47
        }
      ]
    },
    {
      "cell_type": "markdown",
      "source": [
        "### 20. 배송시작일이 2019년 1월 3일인 주문 중, 상품구매금액이 평균 이하인 주문을 찾기."
      ],
      "metadata": {
        "id": "9q1QKZI-b9H1"
      }
    },
    {
      "cell_type": "code",
      "source": [
        "con_20_1 = df_smdwd[(df_smdwd['배송시작일_date'].dt.year == 2019) & (df_smdwd['배송시작일_date'].dt.month == 1) & (df_smdwd['배송시작일_date'].dt.day == 3)]\n",
        "con_20_2 = '상품구매금액 <= 상품구매금액.mean()'\n",
        "df_smdwd_20 = con_20_1.query(con_20_2)\n",
        "\n",
        "df_smdwd_20.info(),con_20_1['상품구매금액'].mean(), df_smdwd_20['상품구매금액'].max(), df_smdwd_20['배송시작일_date'].describe(datetime_is_numeric=True)"
      ],
      "metadata": {
        "colab": {
          "base_uri": "https://localhost:8080/"
        },
        "id": "KH3sX0YOh-vU",
        "outputId": "fe0304f7-4087-4dc1-d4ea-399f61e4aec5"
      },
      "execution_count": 48,
      "outputs": [
        {
          "output_type": "stream",
          "name": "stdout",
          "text": [
            "<class 'pandas.core.frame.DataFrame'>\n",
            "Int64Index: 234 entries, 2 to 45117\n",
            "Data columns (total 13 columns):\n",
            " #   Column      Non-Null Count  Dtype          \n",
            "---  ------      --------------  -----          \n",
            " 0   결제수단        234 non-null    object         \n",
            " 1   배송번호        234 non-null    object         \n",
            " 2   배송시작일       234 non-null    object         \n",
            " 3   배송완료일       234 non-null    object         \n",
            " 4   상품구매금액      234 non-null    int64          \n",
            " 5   상품번호        234 non-null    float64        \n",
            " 6   수량          234 non-null    int64          \n",
            " 7   주문경로        234 non-null    object         \n",
            " 8   주문일         234 non-null    int64          \n",
            " 9   배송시작일_date  234 non-null    datetime64[ns] \n",
            " 10  배송완료일_date  234 non-null    datetime64[ns] \n",
            " 11  배송소요일       234 non-null    timedelta64[ns]\n",
            " 12  주문일_date    234 non-null    datetime64[ns] \n",
            "dtypes: datetime64[ns](3), float64(1), int64(3), object(5), timedelta64[ns](1)\n",
            "memory usage: 25.6+ KB\n"
          ]
        },
        {
          "output_type": "execute_result",
          "data": {
            "text/plain": [
              "(None,\n",
              " 99696.843575419,\n",
              " 99660,\n",
              " count                              234\n",
              " mean     2019-01-03 13:29:11.025640704\n",
              " min                2019-01-03 09:28:00\n",
              " 25%                2019-01-03 09:30:00\n",
              " 50%                2019-01-03 09:30:00\n",
              " 75%                2019-01-03 18:19:00\n",
              " max                2019-01-03 18:20:00\n",
              " Name: 배송시작일_date, dtype: object)"
            ]
          },
          "metadata": {},
          "execution_count": 48
        }
      ]
    }
  ]
}