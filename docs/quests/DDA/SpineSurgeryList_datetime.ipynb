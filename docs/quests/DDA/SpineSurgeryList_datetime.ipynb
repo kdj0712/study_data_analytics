{
  "nbformat": 4,
  "nbformat_minor": 0,
  "metadata": {
    "colab": {
      "provenance": [],
      "authorship_tag": "ABX9TyN12GLlELg5t6ZUYB3QADTi",
      "include_colab_link": true
    },
    "kernelspec": {
      "name": "python3",
      "display_name": "Python 3"
    },
    "language_info": {
      "name": "python"
    }
  },
  "cells": [
    {
      "cell_type": "markdown",
      "metadata": {
        "id": "view-in-github",
        "colab_type": "text"
      },
      "source": [
        "<a href=\"https://colab.research.google.com/github/kdj0712/study_data_analytics/blob/main/docs/quests/DDA/SpineSurgeryList_datetime.ipynb\" target=\"_parent\"><img src=\"https://colab.research.google.com/assets/colab-badge.svg\" alt=\"Open In Colab\"/></a>"
      ]
    },
    {
      "cell_type": "code",
      "execution_count": null,
      "metadata": {
        "id": "gyrr_0K8ECHo"
      },
      "outputs": [],
      "source": [
        "# 한글 폰트 설치\n",
        "!apt-get install -y fonts-nanum\n",
        "!fc-cache -fv\n",
        "!rm ~/.cache/matplotlib -rf\n",
        "# 설치 후 colab 경우 Reuntime > Restart session 필요"
      ]
    },
    {
      "cell_type": "code",
      "source": [
        "import matplotlib.pyplot as plt\n",
        "import matplotlib as mpl\n",
        "mpl.rc('font', family='NanumBarunGothic') # 혹은 다른 설치한 Nanum 폰트 사용\n",
        "import pandas as pd"
      ],
      "metadata": {
        "id": "ril-YmV8EEXL"
      },
      "execution_count": 1,
      "outputs": []
    },
    {
      "cell_type": "code",
      "source": [
        "df_SSL = pd.read_csv('sample_data/SpineSurgeryList.csv')"
      ],
      "metadata": {
        "id": "tnL6UsEmEgfH"
      },
      "execution_count": 3,
      "outputs": []
    },
    {
      "cell_type": "code",
      "source": [
        "pd.read_csv('sample_data/SpineSurgeryList.csv')"
      ],
      "metadata": {
        "id": "a7CDoa4mFx1J"
      },
      "execution_count": null,
      "outputs": []
    },
    {
      "cell_type": "code",
      "source": [
        "df_SSL.info()"
      ],
      "metadata": {
        "id": "cRMGzyWIElUp"
      },
      "execution_count": null,
      "outputs": []
    },
    {
      "cell_type": "code",
      "source": [
        "df_SSL['입원일자_datetime'] = pd.to_datetime(df_SSL['입원일자'],format=\"%Y%m%d\")"
      ],
      "metadata": {
        "id": "cIWxT2_AExZZ"
      },
      "execution_count": 8,
      "outputs": []
    },
    {
      "cell_type": "code",
      "source": [
        "df_SSL['퇴원일자_datetime'] = pd.to_datetime(df_SSL['퇴원일자'],format=\"%Y%m%d\")"
      ],
      "metadata": {
        "id": "2SGlCFTNFqPj"
      },
      "execution_count": 9,
      "outputs": []
    },
    {
      "cell_type": "code",
      "source": [
        "df_SSL['입원일수계산_datetime'] = df_SSL['퇴원일자_datetime'] - df_SSL['입원일자_datetime']\n",
        "df_SSL['입원일수계산_datetime'] = df_SSL['입원일수계산_datetime'].dt.days"
      ],
      "metadata": {
        "id": "TKYT4YQIGa3S"
      },
      "execution_count": 153,
      "outputs": []
    },
    {
      "cell_type": "code",
      "source": [
        "df_SSL.describe()"
      ],
      "metadata": {
        "colab": {
          "base_uri": "https://localhost:8080/",
          "height": 364
        },
        "id": "O5jWkn37G-GJ",
        "outputId": "92235e90-e4bb-4d98-855e-6c73a7cf57bc"
      },
      "execution_count": 165,
      "outputs": [
        {
          "output_type": "execute_result",
          "data": {
            "text/plain": [
              "        Unnamed: 0  Large Lymphocyte  Location of herniation         ODI  \\\n",
              "count  1894.000000       1894.000000             1894.000000  462.000000   \n",
              "mean    946.500000         39.270750                2.295671   31.142857   \n",
              "std     546.895023         13.675874                0.996143   10.131304   \n",
              "min       0.000000          0.000000                1.000000    4.000000   \n",
              "25%     473.250000         30.700000                1.000000   24.250000   \n",
              "50%     946.500000         40.200000                2.000000   31.500000   \n",
              "75%    1419.750000         48.600000                3.000000   38.000000   \n",
              "max    1893.000000         89.000000                5.000000   68.000000   \n",
              "\n",
              "               가족력       간질성폐질환        고혈압여부       과거수술횟수         당뇨여부  \\\n",
              "count  1843.000000  1894.000000  1894.000000  1894.000000  1894.000000   \n",
              "mean      0.049919     0.020063     0.130940     0.302534     0.062830   \n",
              "std       0.217836     0.140254     0.337424     0.638461     0.242721   \n",
              "min       0.000000     0.000000     0.000000     0.000000     0.000000   \n",
              "25%       0.000000     0.000000     0.000000     0.000000     0.000000   \n",
              "50%       0.000000     0.000000     0.000000     0.000000     0.000000   \n",
              "75%       0.000000     0.000000     0.000000     0.000000     0.000000   \n",
              "max       1.000000     1.000000     1.000000     3.000000     1.000000   \n",
              "\n",
              "          말초동맥질환여부  ...  Seg Angle(raw)  Vaccum disc         골밀도       디스크단면적  \\\n",
              "count  1894.000000  ...     1893.000000  1894.000000  998.000000  1893.000000   \n",
              "mean      0.004224  ...       15.287934     0.056494   -1.507325  1989.788774   \n",
              "std       0.064871  ...       10.426397     0.230935    0.495867   314.478436   \n",
              "min       0.000000  ...      -27.400000     0.000000   -2.840000  1145.800000   \n",
              "25%       0.000000  ...        8.800000     0.000000   -1.820000  1777.000000   \n",
              "50%       0.000000  ...       14.500000     0.000000   -1.520000  1985.500000   \n",
              "75%       0.000000  ...       21.100000     0.000000   -1.202500  2178.500000   \n",
              "max       1.000000  ...      165.000000     1.000000    1.700000  3214.200000   \n",
              "\n",
              "             디스크위치       척추전방위증  입원일수계산_datetime  수술일자_datetime_month  \\\n",
              "count  1894.000000  1894.000000      1894.000000          1894.000000   \n",
              "mean      4.430834     0.032207        -8.881204             5.935058   \n",
              "std       3.595680     0.176596       151.338187             3.761021   \n",
              "min       1.000000     0.000000     -2155.000000             1.000000   \n",
              "25%       4.000000     0.000000         1.000000             2.000000   \n",
              "50%       4.000000     0.000000         2.000000             6.000000   \n",
              "75%       4.000000     0.000000         3.000000            10.000000   \n",
              "max      45.000000     1.000000      1125.000000            12.000000   \n",
              "\n",
              "       수술일자_datetime_day  수술일자_datetime_week  \n",
              "count        1894.000000              1894.0  \n",
              "mean           15.935058           24.067582  \n",
              "std             9.372409           16.366693  \n",
              "min             1.000000                 1.0  \n",
              "25%             7.000000                 9.0  \n",
              "50%            16.000000                22.0  \n",
              "75%            24.000000                40.0  \n",
              "max            31.000000                52.0  \n",
              "\n",
              "[8 rows x 51 columns]"
            ],
            "text/html": [
              "\n",
              "  <div id=\"df-feabe3b7-3ba9-460d-b727-9eaecca6e6bb\" class=\"colab-df-container\">\n",
              "    <div>\n",
              "<style scoped>\n",
              "    .dataframe tbody tr th:only-of-type {\n",
              "        vertical-align: middle;\n",
              "    }\n",
              "\n",
              "    .dataframe tbody tr th {\n",
              "        vertical-align: top;\n",
              "    }\n",
              "\n",
              "    .dataframe thead th {\n",
              "        text-align: right;\n",
              "    }\n",
              "</style>\n",
              "<table border=\"1\" class=\"dataframe\">\n",
              "  <thead>\n",
              "    <tr style=\"text-align: right;\">\n",
              "      <th></th>\n",
              "      <th>Unnamed: 0</th>\n",
              "      <th>Large Lymphocyte</th>\n",
              "      <th>Location of herniation</th>\n",
              "      <th>ODI</th>\n",
              "      <th>가족력</th>\n",
              "      <th>간질성폐질환</th>\n",
              "      <th>고혈압여부</th>\n",
              "      <th>과거수술횟수</th>\n",
              "      <th>당뇨여부</th>\n",
              "      <th>말초동맥질환여부</th>\n",
              "      <th>...</th>\n",
              "      <th>Seg Angle(raw)</th>\n",
              "      <th>Vaccum disc</th>\n",
              "      <th>골밀도</th>\n",
              "      <th>디스크단면적</th>\n",
              "      <th>디스크위치</th>\n",
              "      <th>척추전방위증</th>\n",
              "      <th>입원일수계산_datetime</th>\n",
              "      <th>수술일자_datetime_month</th>\n",
              "      <th>수술일자_datetime_day</th>\n",
              "      <th>수술일자_datetime_week</th>\n",
              "    </tr>\n",
              "  </thead>\n",
              "  <tbody>\n",
              "    <tr>\n",
              "      <th>count</th>\n",
              "      <td>1894.000000</td>\n",
              "      <td>1894.000000</td>\n",
              "      <td>1894.000000</td>\n",
              "      <td>462.000000</td>\n",
              "      <td>1843.000000</td>\n",
              "      <td>1894.000000</td>\n",
              "      <td>1894.000000</td>\n",
              "      <td>1894.000000</td>\n",
              "      <td>1894.000000</td>\n",
              "      <td>1894.000000</td>\n",
              "      <td>...</td>\n",
              "      <td>1893.000000</td>\n",
              "      <td>1894.000000</td>\n",
              "      <td>998.000000</td>\n",
              "      <td>1893.000000</td>\n",
              "      <td>1894.000000</td>\n",
              "      <td>1894.000000</td>\n",
              "      <td>1894.000000</td>\n",
              "      <td>1894.000000</td>\n",
              "      <td>1894.000000</td>\n",
              "      <td>1894.0</td>\n",
              "    </tr>\n",
              "    <tr>\n",
              "      <th>mean</th>\n",
              "      <td>946.500000</td>\n",
              "      <td>39.270750</td>\n",
              "      <td>2.295671</td>\n",
              "      <td>31.142857</td>\n",
              "      <td>0.049919</td>\n",
              "      <td>0.020063</td>\n",
              "      <td>0.130940</td>\n",
              "      <td>0.302534</td>\n",
              "      <td>0.062830</td>\n",
              "      <td>0.004224</td>\n",
              "      <td>...</td>\n",
              "      <td>15.287934</td>\n",
              "      <td>0.056494</td>\n",
              "      <td>-1.507325</td>\n",
              "      <td>1989.788774</td>\n",
              "      <td>4.430834</td>\n",
              "      <td>0.032207</td>\n",
              "      <td>-8.881204</td>\n",
              "      <td>5.935058</td>\n",
              "      <td>15.935058</td>\n",
              "      <td>24.067582</td>\n",
              "    </tr>\n",
              "    <tr>\n",
              "      <th>std</th>\n",
              "      <td>546.895023</td>\n",
              "      <td>13.675874</td>\n",
              "      <td>0.996143</td>\n",
              "      <td>10.131304</td>\n",
              "      <td>0.217836</td>\n",
              "      <td>0.140254</td>\n",
              "      <td>0.337424</td>\n",
              "      <td>0.638461</td>\n",
              "      <td>0.242721</td>\n",
              "      <td>0.064871</td>\n",
              "      <td>...</td>\n",
              "      <td>10.426397</td>\n",
              "      <td>0.230935</td>\n",
              "      <td>0.495867</td>\n",
              "      <td>314.478436</td>\n",
              "      <td>3.595680</td>\n",
              "      <td>0.176596</td>\n",
              "      <td>151.338187</td>\n",
              "      <td>3.761021</td>\n",
              "      <td>9.372409</td>\n",
              "      <td>16.366693</td>\n",
              "    </tr>\n",
              "    <tr>\n",
              "      <th>min</th>\n",
              "      <td>0.000000</td>\n",
              "      <td>0.000000</td>\n",
              "      <td>1.000000</td>\n",
              "      <td>4.000000</td>\n",
              "      <td>0.000000</td>\n",
              "      <td>0.000000</td>\n",
              "      <td>0.000000</td>\n",
              "      <td>0.000000</td>\n",
              "      <td>0.000000</td>\n",
              "      <td>0.000000</td>\n",
              "      <td>...</td>\n",
              "      <td>-27.400000</td>\n",
              "      <td>0.000000</td>\n",
              "      <td>-2.840000</td>\n",
              "      <td>1145.800000</td>\n",
              "      <td>1.000000</td>\n",
              "      <td>0.000000</td>\n",
              "      <td>-2155.000000</td>\n",
              "      <td>1.000000</td>\n",
              "      <td>1.000000</td>\n",
              "      <td>1.0</td>\n",
              "    </tr>\n",
              "    <tr>\n",
              "      <th>25%</th>\n",
              "      <td>473.250000</td>\n",
              "      <td>30.700000</td>\n",
              "      <td>1.000000</td>\n",
              "      <td>24.250000</td>\n",
              "      <td>0.000000</td>\n",
              "      <td>0.000000</td>\n",
              "      <td>0.000000</td>\n",
              "      <td>0.000000</td>\n",
              "      <td>0.000000</td>\n",
              "      <td>0.000000</td>\n",
              "      <td>...</td>\n",
              "      <td>8.800000</td>\n",
              "      <td>0.000000</td>\n",
              "      <td>-1.820000</td>\n",
              "      <td>1777.000000</td>\n",
              "      <td>4.000000</td>\n",
              "      <td>0.000000</td>\n",
              "      <td>1.000000</td>\n",
              "      <td>2.000000</td>\n",
              "      <td>7.000000</td>\n",
              "      <td>9.0</td>\n",
              "    </tr>\n",
              "    <tr>\n",
              "      <th>50%</th>\n",
              "      <td>946.500000</td>\n",
              "      <td>40.200000</td>\n",
              "      <td>2.000000</td>\n",
              "      <td>31.500000</td>\n",
              "      <td>0.000000</td>\n",
              "      <td>0.000000</td>\n",
              "      <td>0.000000</td>\n",
              "      <td>0.000000</td>\n",
              "      <td>0.000000</td>\n",
              "      <td>0.000000</td>\n",
              "      <td>...</td>\n",
              "      <td>14.500000</td>\n",
              "      <td>0.000000</td>\n",
              "      <td>-1.520000</td>\n",
              "      <td>1985.500000</td>\n",
              "      <td>4.000000</td>\n",
              "      <td>0.000000</td>\n",
              "      <td>2.000000</td>\n",
              "      <td>6.000000</td>\n",
              "      <td>16.000000</td>\n",
              "      <td>22.0</td>\n",
              "    </tr>\n",
              "    <tr>\n",
              "      <th>75%</th>\n",
              "      <td>1419.750000</td>\n",
              "      <td>48.600000</td>\n",
              "      <td>3.000000</td>\n",
              "      <td>38.000000</td>\n",
              "      <td>0.000000</td>\n",
              "      <td>0.000000</td>\n",
              "      <td>0.000000</td>\n",
              "      <td>0.000000</td>\n",
              "      <td>0.000000</td>\n",
              "      <td>0.000000</td>\n",
              "      <td>...</td>\n",
              "      <td>21.100000</td>\n",
              "      <td>0.000000</td>\n",
              "      <td>-1.202500</td>\n",
              "      <td>2178.500000</td>\n",
              "      <td>4.000000</td>\n",
              "      <td>0.000000</td>\n",
              "      <td>3.000000</td>\n",
              "      <td>10.000000</td>\n",
              "      <td>24.000000</td>\n",
              "      <td>40.0</td>\n",
              "    </tr>\n",
              "    <tr>\n",
              "      <th>max</th>\n",
              "      <td>1893.000000</td>\n",
              "      <td>89.000000</td>\n",
              "      <td>5.000000</td>\n",
              "      <td>68.000000</td>\n",
              "      <td>1.000000</td>\n",
              "      <td>1.000000</td>\n",
              "      <td>1.000000</td>\n",
              "      <td>3.000000</td>\n",
              "      <td>1.000000</td>\n",
              "      <td>1.000000</td>\n",
              "      <td>...</td>\n",
              "      <td>165.000000</td>\n",
              "      <td>1.000000</td>\n",
              "      <td>1.700000</td>\n",
              "      <td>3214.200000</td>\n",
              "      <td>45.000000</td>\n",
              "      <td>1.000000</td>\n",
              "      <td>1125.000000</td>\n",
              "      <td>12.000000</td>\n",
              "      <td>31.000000</td>\n",
              "      <td>52.0</td>\n",
              "    </tr>\n",
              "  </tbody>\n",
              "</table>\n",
              "<p>8 rows × 51 columns</p>\n",
              "</div>\n",
              "    <div class=\"colab-df-buttons\">\n",
              "\n",
              "  <div class=\"colab-df-container\">\n",
              "    <button class=\"colab-df-convert\" onclick=\"convertToInteractive('df-feabe3b7-3ba9-460d-b727-9eaecca6e6bb')\"\n",
              "            title=\"Convert this dataframe to an interactive table.\"\n",
              "            style=\"display:none;\">\n",
              "\n",
              "  <svg xmlns=\"http://www.w3.org/2000/svg\" height=\"24px\" viewBox=\"0 -960 960 960\">\n",
              "    <path d=\"M120-120v-720h720v720H120Zm60-500h600v-160H180v160Zm220 220h160v-160H400v160Zm0 220h160v-160H400v160ZM180-400h160v-160H180v160Zm440 0h160v-160H620v160ZM180-180h160v-160H180v160Zm440 0h160v-160H620v160Z\"/>\n",
              "  </svg>\n",
              "    </button>\n",
              "\n",
              "  <style>\n",
              "    .colab-df-container {\n",
              "      display:flex;\n",
              "      gap: 12px;\n",
              "    }\n",
              "\n",
              "    .colab-df-convert {\n",
              "      background-color: #E8F0FE;\n",
              "      border: none;\n",
              "      border-radius: 50%;\n",
              "      cursor: pointer;\n",
              "      display: none;\n",
              "      fill: #1967D2;\n",
              "      height: 32px;\n",
              "      padding: 0 0 0 0;\n",
              "      width: 32px;\n",
              "    }\n",
              "\n",
              "    .colab-df-convert:hover {\n",
              "      background-color: #E2EBFA;\n",
              "      box-shadow: 0px 1px 2px rgba(60, 64, 67, 0.3), 0px 1px 3px 1px rgba(60, 64, 67, 0.15);\n",
              "      fill: #174EA6;\n",
              "    }\n",
              "\n",
              "    .colab-df-buttons div {\n",
              "      margin-bottom: 4px;\n",
              "    }\n",
              "\n",
              "    [theme=dark] .colab-df-convert {\n",
              "      background-color: #3B4455;\n",
              "      fill: #D2E3FC;\n",
              "    }\n",
              "\n",
              "    [theme=dark] .colab-df-convert:hover {\n",
              "      background-color: #434B5C;\n",
              "      box-shadow: 0px 1px 3px 1px rgba(0, 0, 0, 0.15);\n",
              "      filter: drop-shadow(0px 1px 2px rgba(0, 0, 0, 0.3));\n",
              "      fill: #FFFFFF;\n",
              "    }\n",
              "  </style>\n",
              "\n",
              "    <script>\n",
              "      const buttonEl =\n",
              "        document.querySelector('#df-feabe3b7-3ba9-460d-b727-9eaecca6e6bb button.colab-df-convert');\n",
              "      buttonEl.style.display =\n",
              "        google.colab.kernel.accessAllowed ? 'block' : 'none';\n",
              "\n",
              "      async function convertToInteractive(key) {\n",
              "        const element = document.querySelector('#df-feabe3b7-3ba9-460d-b727-9eaecca6e6bb');\n",
              "        const dataTable =\n",
              "          await google.colab.kernel.invokeFunction('convertToInteractive',\n",
              "                                                    [key], {});\n",
              "        if (!dataTable) return;\n",
              "\n",
              "        const docLinkHtml = 'Like what you see? Visit the ' +\n",
              "          '<a target=\"_blank\" href=https://colab.research.google.com/notebooks/data_table.ipynb>data table notebook</a>'\n",
              "          + ' to learn more about interactive tables.';\n",
              "        element.innerHTML = '';\n",
              "        dataTable['output_type'] = 'display_data';\n",
              "        await google.colab.output.renderOutput(dataTable, element);\n",
              "        const docLink = document.createElement('div');\n",
              "        docLink.innerHTML = docLinkHtml;\n",
              "        element.appendChild(docLink);\n",
              "      }\n",
              "    </script>\n",
              "  </div>\n",
              "\n",
              "\n",
              "<div id=\"df-809e90f4-b550-421b-858b-9bba15df45a0\">\n",
              "  <button class=\"colab-df-quickchart\" onclick=\"quickchart('df-809e90f4-b550-421b-858b-9bba15df45a0')\"\n",
              "            title=\"Suggest charts\"\n",
              "            style=\"display:none;\">\n",
              "\n",
              "<svg xmlns=\"http://www.w3.org/2000/svg\" height=\"24px\"viewBox=\"0 0 24 24\"\n",
              "     width=\"24px\">\n",
              "    <g>\n",
              "        <path d=\"M19 3H5c-1.1 0-2 .9-2 2v14c0 1.1.9 2 2 2h14c1.1 0 2-.9 2-2V5c0-1.1-.9-2-2-2zM9 17H7v-7h2v7zm4 0h-2V7h2v10zm4 0h-2v-4h2v4z\"/>\n",
              "    </g>\n",
              "</svg>\n",
              "  </button>\n",
              "\n",
              "<style>\n",
              "  .colab-df-quickchart {\n",
              "      --bg-color: #E8F0FE;\n",
              "      --fill-color: #1967D2;\n",
              "      --hover-bg-color: #E2EBFA;\n",
              "      --hover-fill-color: #174EA6;\n",
              "      --disabled-fill-color: #AAA;\n",
              "      --disabled-bg-color: #DDD;\n",
              "  }\n",
              "\n",
              "  [theme=dark] .colab-df-quickchart {\n",
              "      --bg-color: #3B4455;\n",
              "      --fill-color: #D2E3FC;\n",
              "      --hover-bg-color: #434B5C;\n",
              "      --hover-fill-color: #FFFFFF;\n",
              "      --disabled-bg-color: #3B4455;\n",
              "      --disabled-fill-color: #666;\n",
              "  }\n",
              "\n",
              "  .colab-df-quickchart {\n",
              "    background-color: var(--bg-color);\n",
              "    border: none;\n",
              "    border-radius: 50%;\n",
              "    cursor: pointer;\n",
              "    display: none;\n",
              "    fill: var(--fill-color);\n",
              "    height: 32px;\n",
              "    padding: 0;\n",
              "    width: 32px;\n",
              "  }\n",
              "\n",
              "  .colab-df-quickchart:hover {\n",
              "    background-color: var(--hover-bg-color);\n",
              "    box-shadow: 0 1px 2px rgba(60, 64, 67, 0.3), 0 1px 3px 1px rgba(60, 64, 67, 0.15);\n",
              "    fill: var(--button-hover-fill-color);\n",
              "  }\n",
              "\n",
              "  .colab-df-quickchart-complete:disabled,\n",
              "  .colab-df-quickchart-complete:disabled:hover {\n",
              "    background-color: var(--disabled-bg-color);\n",
              "    fill: var(--disabled-fill-color);\n",
              "    box-shadow: none;\n",
              "  }\n",
              "\n",
              "  .colab-df-spinner {\n",
              "    border: 2px solid var(--fill-color);\n",
              "    border-color: transparent;\n",
              "    border-bottom-color: var(--fill-color);\n",
              "    animation:\n",
              "      spin 1s steps(1) infinite;\n",
              "  }\n",
              "\n",
              "  @keyframes spin {\n",
              "    0% {\n",
              "      border-color: transparent;\n",
              "      border-bottom-color: var(--fill-color);\n",
              "      border-left-color: var(--fill-color);\n",
              "    }\n",
              "    20% {\n",
              "      border-color: transparent;\n",
              "      border-left-color: var(--fill-color);\n",
              "      border-top-color: var(--fill-color);\n",
              "    }\n",
              "    30% {\n",
              "      border-color: transparent;\n",
              "      border-left-color: var(--fill-color);\n",
              "      border-top-color: var(--fill-color);\n",
              "      border-right-color: var(--fill-color);\n",
              "    }\n",
              "    40% {\n",
              "      border-color: transparent;\n",
              "      border-right-color: var(--fill-color);\n",
              "      border-top-color: var(--fill-color);\n",
              "    }\n",
              "    60% {\n",
              "      border-color: transparent;\n",
              "      border-right-color: var(--fill-color);\n",
              "    }\n",
              "    80% {\n",
              "      border-color: transparent;\n",
              "      border-right-color: var(--fill-color);\n",
              "      border-bottom-color: var(--fill-color);\n",
              "    }\n",
              "    90% {\n",
              "      border-color: transparent;\n",
              "      border-bottom-color: var(--fill-color);\n",
              "    }\n",
              "  }\n",
              "</style>\n",
              "\n",
              "  <script>\n",
              "    async function quickchart(key) {\n",
              "      const quickchartButtonEl =\n",
              "        document.querySelector('#' + key + ' button');\n",
              "      quickchartButtonEl.disabled = true;  // To prevent multiple clicks.\n",
              "      quickchartButtonEl.classList.add('colab-df-spinner');\n",
              "      try {\n",
              "        const charts = await google.colab.kernel.invokeFunction(\n",
              "            'suggestCharts', [key], {});\n",
              "      } catch (error) {\n",
              "        console.error('Error during call to suggestCharts:', error);\n",
              "      }\n",
              "      quickchartButtonEl.classList.remove('colab-df-spinner');\n",
              "      quickchartButtonEl.classList.add('colab-df-quickchart-complete');\n",
              "    }\n",
              "    (() => {\n",
              "      let quickchartButtonEl =\n",
              "        document.querySelector('#df-809e90f4-b550-421b-858b-9bba15df45a0 button');\n",
              "      quickchartButtonEl.style.display =\n",
              "        google.colab.kernel.accessAllowed ? 'block' : 'none';\n",
              "    })();\n",
              "  </script>\n",
              "</div>\n",
              "\n",
              "    </div>\n",
              "  </div>\n"
            ]
          },
          "metadata": {},
          "execution_count": 165
        }
      ]
    },
    {
      "cell_type": "code",
      "source": [
        "df_SSL['입원일수계산_datetime'].value_counts()"
      ],
      "metadata": {
        "colab": {
          "base_uri": "https://localhost:8080/"
        },
        "collapsed": true,
        "id": "AUmr0jBvIbZ6",
        "outputId": "f01e7f92-9302-4fb4-c8fd-c8ab112a0dd6"
      },
      "execution_count": 166,
      "outputs": [
        {
          "output_type": "execute_result",
          "data": {
            "text/plain": [
              " 2       620\n",
              " 1       463\n",
              " 3       384\n",
              " 4       214\n",
              " 0        47\n",
              "        ... \n",
              " 177       1\n",
              "-43        1\n",
              "-730       1\n",
              "-2116      1\n",
              " 71        1\n",
              "Name: 입원일수계산_datetime, Length: 75, dtype: int64"
            ]
          },
          "metadata": {},
          "execution_count": 166
        }
      ]
    },
    {
      "cell_type": "code",
      "source": [
        "df_SSL['입원일수계산_datetime'].describe()"
      ],
      "metadata": {
        "colab": {
          "base_uri": "https://localhost:8080/"
        },
        "collapsed": true,
        "id": "5HeaMMK9Jyzb",
        "outputId": "86458489-5bf6-42c7-868b-0222d2109b23"
      },
      "execution_count": 167,
      "outputs": [
        {
          "output_type": "execute_result",
          "data": {
            "text/plain": [
              "count    1894.000000\n",
              "mean       -8.881204\n",
              "std       151.338187\n",
              "min     -2155.000000\n",
              "25%         1.000000\n",
              "50%         2.000000\n",
              "75%         3.000000\n",
              "max      1125.000000\n",
              "Name: 입원일수계산_datetime, dtype: float64"
            ]
          },
          "metadata": {},
          "execution_count": 167
        }
      ]
    },
    {
      "cell_type": "code",
      "source": [
        "best = df_SSL.sort_values(by=['입원일수계산_datetime'],ascending=[False])[:1]"
      ],
      "metadata": {
        "id": "SjI-l9HqLlJL"
      },
      "execution_count": 158,
      "outputs": []
    },
    {
      "cell_type": "code",
      "source": [
        "worst = df_SSL.sort_values(by=['입원일수계산_datetime'],ascending=[False])[1893:]"
      ],
      "metadata": {
        "id": "uwglnWVLNECb"
      },
      "execution_count": 159,
      "outputs": []
    },
    {
      "cell_type": "code",
      "source": [
        "visual = df_SSL.sort_values(by=['입원일수계산_datetime'],ascending=[False])[:5]"
      ],
      "metadata": {
        "id": "ANq54hRDNcik"
      },
      "execution_count": 171,
      "outputs": []
    },
    {
      "cell_type": "code",
      "source": [
        "visual.info()"
      ],
      "metadata": {
        "colab": {
          "base_uri": "https://localhost:8080/"
        },
        "collapsed": true,
        "id": "eaWwvomMY-nE",
        "outputId": "cb735913-291c-4458-ea18-0fce6771cdb1"
      },
      "execution_count": 169,
      "outputs": [
        {
          "output_type": "stream",
          "name": "stdout",
          "text": [
            "<class 'pandas.core.frame.DataFrame'>\n",
            "Int64Index: 5 entries, 1019 to 1031\n",
            "Data columns (total 59 columns):\n",
            " #   Column                  Non-Null Count  Dtype         \n",
            "---  ------                  --------------  -----         \n",
            " 0   Unnamed: 0              5 non-null      int64         \n",
            " 1   환자ID                    5 non-null      object        \n",
            " 2   Large Lymphocyte        5 non-null      float64       \n",
            " 3   Location of herniation  5 non-null      int64         \n",
            " 4   ODI                     4 non-null      float64       \n",
            " 5   가족력                     5 non-null      float64       \n",
            " 6   간질성폐질환                  5 non-null      int64         \n",
            " 7   고혈압여부                   5 non-null      int64         \n",
            " 8   과거수술횟수                  5 non-null      int64         \n",
            " 9   당뇨여부                    5 non-null      int64         \n",
            " 10  말초동맥질환여부                5 non-null      int64         \n",
            " 11  빈혈여부                    5 non-null      int64         \n",
            " 12  성별                      5 non-null      int64         \n",
            " 13  스테로이드치료                 5 non-null      int64         \n",
            " 14  신부전여부                   5 non-null      int64         \n",
            " 15  신장                      5 non-null      int64         \n",
            " 16  심혈관질환                   5 non-null      int64         \n",
            " 17  암발병여부                   5 non-null      int64         \n",
            " 18  연령                      5 non-null      int64         \n",
            " 19  우울증여부                   5 non-null      int64         \n",
            " 20  입원기간                    5 non-null      int64         \n",
            " 21  입원일자                    5 non-null      int64         \n",
            " 22  종양진행여부                  5 non-null      int64         \n",
            " 23  직업                      5 non-null      object        \n",
            " 24  체중                      5 non-null      float64       \n",
            " 25  퇴원일자                    5 non-null      int64         \n",
            " 26  헤모글로빈수치                 5 non-null      float64       \n",
            " 27  혈전합병증여부                 5 non-null      int64         \n",
            " 28  환자통증정도                  5 non-null      int64         \n",
            " 29  흡연여부                    5 non-null      int64         \n",
            " 30  통증기간(월)                 5 non-null      float64       \n",
            " 31  수술기법                    5 non-null      object        \n",
            " 32  수술시간                    5 non-null      float64       \n",
            " 33  수술실패여부                  5 non-null      int64         \n",
            " 34  수술일자                    5 non-null      int64         \n",
            " 35  재발여부                    5 non-null      int64         \n",
            " 36  혈액형                     5 non-null      object        \n",
            " 37  전방디스크높이(mm)             5 non-null      float64       \n",
            " 38  후방디스크높이(mm)             5 non-null      float64       \n",
            " 39  지방축적도                   5 non-null      float64       \n",
            " 40  Instability             5 non-null      int64         \n",
            " 41  MF + ES                 5 non-null      float64       \n",
            " 42  Modic change            5 non-null      int64         \n",
            " 43  PI                      5 non-null      float64       \n",
            " 44  PT                      5 non-null      float64       \n",
            " 45  Seg Angle(raw)          5 non-null      float64       \n",
            " 46  Vaccum disc             5 non-null      int64         \n",
            " 47  골밀도                     2 non-null      float64       \n",
            " 48  디스크단면적                  5 non-null      float64       \n",
            " 49  디스크위치                   5 non-null      int64         \n",
            " 50  척추이동척도                  5 non-null      object        \n",
            " 51  척추전방위증                  5 non-null      int64         \n",
            " 52  입원일자_datetime           5 non-null      datetime64[ns]\n",
            " 53  퇴원일자_datetime           5 non-null      datetime64[ns]\n",
            " 54  입원일수계산_datetime         5 non-null      object        \n",
            " 55  수술일자_datetime           5 non-null      datetime64[ns]\n",
            " 56  수술일자_datetime_month     5 non-null      int64         \n",
            " 57  수술일자_datetime_day       5 non-null      int64         \n",
            " 58  수술일자_datetime_week      5 non-null      UInt32        \n",
            "dtypes: UInt32(1), datetime64[ns](3), float64(16), int64(33), object(6)\n",
            "memory usage: 2.3+ KB\n"
          ]
        }
      ]
    },
    {
      "cell_type": "code",
      "source": [
        "import seaborn as sns"
      ],
      "metadata": {
        "id": "7nVy02bnN3Si"
      },
      "execution_count": 53,
      "outputs": []
    },
    {
      "cell_type": "code",
      "source": [
        "visuals = visual['입원일수계산_datetime']"
      ],
      "metadata": {
        "id": "xk9I_vfmh7FX"
      },
      "execution_count": 109,
      "outputs": []
    },
    {
      "cell_type": "code",
      "source": [
        "visuals = visuals.index"
      ],
      "metadata": {
        "id": "Z0Qu4hy9OJLz"
      },
      "execution_count": 138,
      "outputs": []
    },
    {
      "cell_type": "code",
      "source": [
        "sns.barplot(data=visual, x='환자ID' ,y='입원일수계산_datetime')\n",
        "plt.title('환자별 입원기간')"
      ],
      "metadata": {
        "colab": {
          "base_uri": "https://localhost:8080/",
          "height": 489
        },
        "id": "nIQLBNielROQ",
        "outputId": "64cd6229-fd9c-4285-c3d1-7e23f50414e2"
      },
      "execution_count": 175,
      "outputs": [
        {
          "output_type": "execute_result",
          "data": {
            "text/plain": [
              "Text(0.5, 1.0, '환자별 입원기간')"
            ]
          },
          "metadata": {},
          "execution_count": 175
        },
        {
          "output_type": "display_data",
          "data": {
            "text/plain": [
              "<Figure size 640x480 with 1 Axes>"
            ],
            "image/png": "[encoded data removed]"
          },
          "metadata": {}
        }
      ]
    },
    {
      "cell_type": "code",
      "source": [
        "df_SSL['수술일자_datetime'] = pd.to_datetime(df_SSL['수술일자'],format='%Y%m%d')"
      ],
      "metadata": {
        "id": "qIJnlg1qZ6VQ"
      },
      "execution_count": 81,
      "outputs": []
    },
    {
      "cell_type": "code",
      "source": [
        "df_SSL['수술일자_datetime'].value_counts()"
      ],
      "metadata": {
        "colab": {
          "base_uri": "https://localhost:8080/"
        },
        "collapsed": true,
        "id": "6FOiq1YHf1M1",
        "outputId": "27abf1a5-b5b7-4cb9-b145-5281566d297d"
      },
      "execution_count": 82,
      "outputs": [
        {
          "output_type": "execute_result",
          "data": {
            "text/plain": [
              "2019-01-31    28\n",
              "2019-01-03    20\n",
              "2019-02-28    18\n",
              "2019-02-01    14\n",
              "2019-01-02    13\n",
              "              ..\n",
              "2011-01-24     1\n",
              "2011-05-09     1\n",
              "2019-04-28     1\n",
              "2019-03-14     1\n",
              "2017-04-12     1\n",
              "Name: 수술일자_datetime, Length: 976, dtype: int64"
            ]
          },
          "metadata": {},
          "execution_count": 82
        }
      ]
    },
    {
      "cell_type": "code",
      "source": [
        "import matplotlib.pyplot as plt"
      ],
      "metadata": {
        "id": "scLiUB3JrV_l"
      },
      "execution_count": 177,
      "outputs": []
    },
    {
      "cell_type": "code",
      "source": [
        "df_SSL['수술일자_datetime_month'] = df_SSL['수술일자_datetime'].dt.month\n",
        "df_SSL['수술일자_datetime_day'] = df_SSL['수술일자_datetime'].dt.day\n",
        "df_SSL['수술일자_datetime_week'] = df_SSL['수술일자_datetime'].dt.isocalendar().week"
      ],
      "metadata": {
        "id": "Y3YE8pljZZgW"
      },
      "execution_count": 83,
      "outputs": []
    },
    {
      "cell_type": "code",
      "source": [
        "df_SSL['수술일자_datetime_month'].value_counts()"
      ],
      "metadata": {
        "colab": {
          "base_uri": "https://localhost:8080/"
        },
        "collapsed": true,
        "id": "XJjpDyZ-fsUj",
        "outputId": "927b75a2-a18d-4c29-9530-376f4fb66b2c"
      },
      "execution_count": 84,
      "outputs": [
        {
          "output_type": "execute_result",
          "data": {
            "text/plain": [
              "1     285\n",
              "2     201\n",
              "3     192\n",
              "12    177\n",
              "10    173\n",
              "4     148\n",
              "7     140\n",
              "11    131\n",
              "9     121\n",
              "6     119\n",
              "5     116\n",
              "8      91\n",
              "Name: 수술일자_datetime_month, dtype: int64"
            ]
          },
          "metadata": {},
          "execution_count": 84
        }
      ]
    },
    {
      "cell_type": "code",
      "source": [
        "sns.countplot(data=df_SSL,x='수술일자_datetime_month')\n",
        "plt.title('datetime : 월별')"
      ],
      "metadata": {
        "colab": {
          "base_uri": "https://localhost:8080/",
          "height": 489
        },
        "id": "qNZqrBUXZaiu",
        "outputId": "8d2933ce-a2d3-4dac-fdba-f21aa743b2c3"
      },
      "execution_count": 93,
      "outputs": [
        {
          "output_type": "execute_result",
          "data": {
            "text/plain": [
              "Text(0.5, 1.0, 'datetime : 월별')"
            ]
          },
          "metadata": {},
          "execution_count": 93
        },
        {
          "output_type": "display_data",
          "data": {
            "text/plain": [
              "<Figure size 640x480 with 1 Axes>"
            ],
            "image/png": "[encoded data removed]"
          },
          "metadata": {}
        }
      ]
    },
    {
      "cell_type": "code",
      "source": [
        "plt.figure(figsize=(8,6))\n",
        "sns.countplot(data=df_SSL,x='수술일자_datetime_day')\n",
        "plt.title('datetime : 일자별')"
      ],
      "metadata": {
        "colab": {
          "base_uri": "https://localhost:8080/",
          "height": 582
        },
        "id": "89rAzRETadnl",
        "outputId": "d0988db8-3d55-44e7-9cc2-d57785dc3ff2"
      },
      "execution_count": 188,
      "outputs": [
        {
          "output_type": "execute_result",
          "data": {
            "text/plain": [
              "Text(0.5, 1.0, 'datetime : 일자별')"
            ]
          },
          "metadata": {},
          "execution_count": 188
        },
        {
          "output_type": "display_data",
          "data": {
            "text/plain": [
              "<Figure size 800x600 with 1 Axes>"
            ],
            "image/png": "[encoded data removed]"
          },
          "metadata": {}
        }
      ]
    },
    {
      "cell_type": "code",
      "source": [
        "plt.figure(figsize=(12,6))\n",
        "sns.countplot(data=df_SSL,x='수술일자_datetime_week')\n",
        "plt.title('datetime : 주차별')"
      ],
      "metadata": {
        "colab": {
          "base_uri": "https://localhost:8080/",
          "height": 581
        },
        "id": "64s0Qcv3g7kJ",
        "outputId": "0d507078-7609-42d2-9dba-cdc8400eace2"
      },
      "execution_count": 187,
      "outputs": [
        {
          "output_type": "execute_result",
          "data": {
            "text/plain": [
              "Text(0.5, 1.0, 'datetime : 주차별')"
            ]
          },
          "metadata": {},
          "execution_count": 187
        },
        {
          "output_type": "display_data",
          "data": {
            "text/plain": [
              "<Figure size 1200x600 with 1 Axes>"
            ],
            "image/png": "[encoded data removed]"
          },
          "metadata": {}
        }
      ]
    },
    {
      "cell_type": "code",
      "source": [],
      "metadata": {
        "id": "pRIw6fgzhHhr"
      },
      "execution_count": null,
      "outputs": []
    }
  ]
}